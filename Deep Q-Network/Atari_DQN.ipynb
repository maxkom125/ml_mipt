{
  "cells": [
    {
      "attachments": {},
      "cell_type": "markdown",
      "metadata": {
        "id": "KRW0CnH3hZHN"
      },
      "source": [
        "# Deep Q-Network implementation\n",
        "\n",
        "This notebook shamelessly demands to implement a DQN - an approximate q-learning algorithm with experience replay and target networks - and see if it works any better this way.\n",
        "\n",
        "## Task: Train Agent to play BreakoutNoFrameskip-v4\n",
        "\n",
        "Original paper:\n",
        "https://arxiv.org/pdf/1312.5602.pdf"
      ]
    },
    {
      "attachments": {},
      "cell_type": "markdown",
      "metadata": {
        "id": "pNIGobRphZHP"
      },
      "source": [
        "**This notebook is the main notebook.** Another notebook is given for debug. The tasks are similar and share most of the code. The main difference is in environments. In main notebook it can take some 2 hours for the agent to start improving so it seems reasonable to launch the algorithm on a simpler env first. Here it is CartPole and it will train in several minutes.\n"
      ]
    },
    {
      "cell_type": "code",
      "execution_count": 1,
      "metadata": {
        "colab": {
          "base_uri": "https://localhost:8080/"
        },
        "id": "3bDTYFQWhZHQ",
        "outputId": "e7f65226-77c6-4e22-998b-c6ca2e4bd12f"
      },
      "outputs": [
        {
          "name": "stdout",
          "output_type": "stream",
          "text": [
            "Selecting previously unselected package xvfb.\n",
            "(Reading database ... 155632 files and directories currently installed.)\n",
            "Preparing to unpack .../xvfb_2%3a1.19.6-1ubuntu4.10_amd64.deb ...\n",
            "Unpacking xvfb (2:1.19.6-1ubuntu4.10) ...\n",
            "Setting up xvfb (2:1.19.6-1ubuntu4.10) ...\n",
            "Processing triggers for man-db (2.8.3-2ubuntu0.1) ...\n",
            "Starting virtual X frame buffer: Xvfb.\n"
          ]
        }
      ],
      "source": [
        "import os\n",
        "import sys\n",
        "\n",
        "\n",
        "if \"google.colab\" in sys.modules and not os.path.exists(\".setup_complete\"):\n",
        "    !wget -q https://raw.githubusercontent.com/yandexdataschool/Practical_RL/master/setup_colab.sh -O- | bash\n",
        "    !wget -q https://raw.githubusercontent.com/girafe-ai/ml-mipt/develop_advanced_practice/homeworks_advanced/Lab2_RL/replay_buffer.py\n",
        "    !wget -q https://raw.githubusercontent.com/girafe-ai/ml-mipt/develop_advanced_practice/homeworks_advanced/Lab2_RL/utils.py\n",
        "    !wget -q https://raw.githubusercontent.com/girafe-ai/ml-mipt/develop_advanced_practice/homeworks_advanced/Lab2_RL/atari_wrappers.py\n",
        "    !wget -q https://raw.githubusercontent.com/girafe-ai/ml-mipt/develop_advanced_practice/homeworks_advanced/Lab2_RL/framebuffer.py\n",
        "    !touch .setup_complete\n",
        "\n",
        "# This code creates a virtual display to draw game images on.\n",
        "# It will have no effect if your machine has a monitor.\n",
        "if type(os.environ.get(\"DISPLAY\")) is not str or len(os.environ.get(\"DISPLAY\")) == 0:\n",
        "    !bash ../xvfb start\n",
        "    os.environ[\"DISPLAY\"] = \":1\""
      ]
    },
    {
      "cell_type": "markdown",
      "metadata": {
        "id": "bxoEdZ-ehZHS"
      },
      "source": [
        "## Let's play some old videogames\n",
        "![img](https://github.com/yandexdataschool/Practical_RL/raw/master/yet_another_week/_resource/nerd.png)\n",
        "\n",
        "This time we're gonna apply approximate q-learning to an atari game called Breakout. It's not the hardest thing out there, but it's definitely way more complex than anything we tried before.\n"
      ]
    },
    {
      "cell_type": "markdown",
      "metadata": {
        "id": "lRvEHGmFhZHT"
      },
      "source": [
        "## Preprocessing "
      ]
    },
    {
      "cell_type": "markdown",
      "metadata": {
        "id": "UWvswpiEhZHT"
      },
      "source": [
        "Let's see what observations look like."
      ]
    },
    {
      "cell_type": "code",
      "execution_count": 2,
      "metadata": {
        "colab": {
          "base_uri": "https://localhost:8080/",
          "height": 385
        },
        "id": "jhZVBTz0hZHT",
        "outputId": "f1b9e315-df08-4558-cb2d-7a7f80ae21c3"
      },
      "outputs": [
        {
          "data": {
            "image/png": "[encoded data removed]",
            "text/plain": [
              "<Figure size 1152x648 with 10 Axes>"
            ]
          },
          "metadata": {
            "needs_background": "light"
          },
          "output_type": "display_data"
        }
      ],
      "source": [
        "import gym\n",
        "import matplotlib.pyplot as plt\n",
        "\n",
        "\n",
        "env = gym.make(\"BreakoutNoFrameskip-v4\")\n",
        "env.reset()\n",
        "\n",
        "_, axes = plt.subplots(nrows=2, ncols=5, figsize=(16, 9))\n",
        "\n",
        "for ax in axes.flatten():\n",
        "    ax.imshow(env.render('rgb_array'))\n",
        "    env.step(env.action_space.sample())\n",
        "\n",
        "plt.show()"
      ]
    },
    {
      "cell_type": "markdown",
      "metadata": {
        "id": "qlzsddHjhZHT"
      },
      "source": [
        "If you are working in a local jupyter (as opposed to colab), you actually can play the game with the following code:\n",
        "\n",
        "```\n",
        "from gym.utils.play import play\n",
        "play(env=gym.make(\"BreakoutNoFrameskip-v4\"), zoom=5, fps=30)\n",
        "```\n",
        "\n",
        "Pay attention to zoom and fps args of play function. Controls are A, D and space."
      ]
    },
    {
      "cell_type": "markdown",
      "metadata": {
        "id": "mVWBMsmrhZHU"
      },
      "source": [
        "### Processing game image \n",
        "\n",
        "Raw atari images are large, 210x160x3 by default. However, we don't need that level of detail in order to learn them.\n",
        "\n",
        "We can thus save a lot of time by preprocessing game image, including\n",
        "* Resizing to a smaller shape, 64 x 64\n",
        "* Converting to grayscale\n",
        "* Cropping irrelevant image parts (top, bottom and edges)\n",
        "\n",
        "Also please keep one dimension for channel so that final shape would be 1 x 64 x 64.\n",
        "\n",
        "Tip: You can implement your own grayscale converter and assign a huge weight to the red channel. This dirty trick is not necessary but it will speed up learning."
      ]
    },
    {
      "cell_type": "code",
      "execution_count": 3,
      "metadata": {
        "id": "44hUDwgXa0Wv"
      },
      "outputs": [],
      "source": [
        "import cv2"
      ]
    },
    {
      "cell_type": "code",
      "execution_count": 4,
      "metadata": {
        "id": "rOH5Zm8VhZHU"
      },
      "outputs": [],
      "source": [
        "from gym.core import ObservationWrapper\n",
        "from gym.spaces import Box\n",
        "import numpy as np\n",
        "import tensorflow as tf\n",
        "import torch\n",
        "\n",
        "class PreprocessAtariObs(ObservationWrapper):\n",
        "    def __init__(self, env):\n",
        "        \"\"\"A gym wrapper that crops, scales image into the desired shapes and grayscales it.\"\"\"\n",
        "        super().__init__(env)\n",
        "        self.img_size = (1, 64, 64)\n",
        "        self.observation_space = Box(0.0, 1.0, self.img_size)\n",
        "\n",
        "    def _to_gray_scale(self, rgb, channel_weights=[0.8, 0.1, 0.1]):\n",
        "        '''\n",
        "        print(\"_to_gray_scale, rgb type and shape\", type(rgb), rgb.shape, channel_weights)\n",
        "        print((torch.tensor(rgb, dtype=torch.float) @ torch.tensor(channel_weights).reshape(3, 1)).shape)\n",
        "        a1 = torch.tensor(np.sum(rgb * np.array([0.8, 0.1, 0.1]), axis=2), dtype=torch.float).reshape((164, 144, 1))\n",
        "        a2 = (torch.tensor(rgb, dtype=torch.float) @ torch.tensor(channel_weights).reshape(3, 1))\n",
        "        print(\"!!ALL!\", torch.all((a1 - a2) < 1e-10), torch.all((a2 - a1) < 1e-4))\n",
        "        print((a1 - a2).shape)\n",
        "        print(a1[ 31,   0,   0], \"SEEEEE\")\n",
        "        print(a2[ 31,   0,   0])\n",
        "        print((a2 - a1)[ 31,   0,   0])\n",
        "        print(((a2 - a1) >= 1e-23).nonzero())\n",
        "        '''\n",
        "                \n",
        "        return torch.tensor(rgb, dtype=torch.float) @ torch.tensor(channel_weights).reshape(3, 1)\n",
        "\n",
        "    def observation(self, img):\n",
        "        \"\"\"what happens to each observation\"\"\"\n",
        "        # Pipline:\n",
        "        #  * crop image, remove irrelevant parts\n",
        "        #  * resize image to self.img_size\n",
        "        #     (use imresize from any library you want,\n",
        "        #      e.g. opencv, skimage, PIL, keras)\n",
        "        #  * cast image to grayscale\n",
        "        #  * convert image pixels to (0,1) range, float32 type\n",
        "\n",
        "        img = img[32:-14, 8:-8]\n",
        "        #img = torch.tensor(img, dtype = torch.float)\n",
        "        img = self._to_gray_scale(img).reshape(164, 144)   \n",
        "        #plt.imshow(img, interpolation='none', cmap='gray')\n",
        "        #plt.show()\n",
        "        #img = tf.keras.preprocessing.image.smart_resize(img, self.img_size[1:]) ЭТО НЕ РАБОТАЕТ!! НЕ РАБОТАЕТ! НЕ РАБОТАЕТ! НННННННННЕЕЕЕЕЕЕЕЕ РАБОТАЕТ!!!!!!! smart_resize нифига не smart a stupid. Убирает платформу с картинки!\n",
        "        img = cv2.resize(img.numpy(), (64, 64))\n",
        "        #print(\"After 1 resize\", img.shape)\n",
        "        img = img.reshape(self.img_size)\n",
        "        img /= 256 #????????? max_pixel_value???\n",
        "       \n",
        "        return img"
      ]
    },
    {
      "cell_type": "code",
      "execution_count": 5,
      "metadata": {
        "colab": {
          "base_uri": "https://localhost:8080/",
          "height": 370
        },
        "id": "dpJillghhZHU",
        "outputId": "ba0227b8-3427-4cdd-a10e-b7c88087d49c"
      },
      "outputs": [
        {
          "name": "stdout",
          "output_type": "stream",
          "text": [
            "Formal tests seem fine. Here's an example of what you'll get.\n"
          ]
        },
        {
          "data": {
            "image/png": "[encoded data removed]",
            "text/plain": [
              "<Figure size 1152x648 with 10 Axes>"
            ]
          },
          "metadata": {
            "needs_background": "light"
          },
          "output_type": "display_data"
        }
      ],
      "source": [
        "import numpy as np\n",
        "\n",
        "\n",
        "# spawn game instance for tests\n",
        "env = gym.make(\"BreakoutNoFrameskip-v4\")\n",
        "env = PreprocessAtariObs(env)\n",
        "state_shape = env.observation_space.shape\n",
        "n_actions = env.action_space.n\n",
        "env.reset()\n",
        "obs, _, _, _ = env.step(env.action_space.sample())\n",
        "#print(obs.shape, state_shape, obs.dtype, obs.ndim)\n",
        "\n",
        "# test observation\n",
        "assert obs.ndim == 3, \"observation must be [channel, h, w] even if there's just one channel\"\n",
        "assert obs.shape == state_shape\n",
        "assert obs.dtype == 'float32'\n",
        "assert len(np.unique(obs)) > 2, \"your image must not be binary\"\n",
        "assert 0 <= np.min(obs) and np.max(obs) <= 1, \"convert image pixels to [0,1] range\"\n",
        "\n",
        "print(\"Formal tests seem fine. Here's an example of what you'll get.\")\n",
        "\n",
        "n_cols = 5\n",
        "n_rows = 2\n",
        "fig = plt.figure(figsize=(16, 9))\n",
        "obs = env.reset()\n",
        "for row in range(n_rows):\n",
        "    for col in range(n_cols):\n",
        "        ax = fig.add_subplot(n_rows, n_cols, row * n_cols + col + 1)\n",
        "        ax.imshow(obs[0, :, :], interpolation='none', cmap='gray')\n",
        "        obs, _, _, _ = env.step(env.action_space.sample())\n",
        "plt.show()"
      ]
    },
    {
      "cell_type": "markdown",
      "metadata": {
        "id": "rVSDpD0phZHU"
      },
      "source": [
        "### Wrapping."
      ]
    },
    {
      "cell_type": "markdown",
      "metadata": {
        "id": "OTGN0psNhZHV"
      },
      "source": [
        "**About the game:** You have 5 lives and get points for breaking the wall. Higher bricks cost more than the lower ones. There are 4 actions: start game (should be called at the beginning and after each life is lost), move left, move right and do nothing. There are some common wrappers used for Atari environments."
      ]
    },
    {
      "cell_type": "code",
      "execution_count": 6,
      "metadata": {
        "id": "AVNSZ0LWhZHV"
      },
      "outputs": [],
      "source": [
        "import atari_wrappers\n",
        "\n",
        "\n",
        "def PrimaryAtariWrap(env, clip_rewards=True):\n",
        "    assert 'NoFrameskip' in env.spec.id\n",
        "\n",
        "    # This wrapper holds the same action for <skip> frames and outputs\n",
        "    # the maximal pixel value of 2 last frames (to handle blinking\n",
        "    # in some envs)\n",
        "    env = atari_wrappers.MaxAndSkipEnv(env, skip=4)\n",
        "\n",
        "    # This wrapper sends done=True when each life is lost\n",
        "    # (not all the 5 lives that are givern by the game rules).\n",
        "    # It should make easier for the agent to understand that losing is bad.\n",
        "    env = atari_wrappers.EpisodicLifeEnv(env)\n",
        "\n",
        "    # This wrapper laucnhes the ball when an episode starts.\n",
        "    # Without it the agent has to learn this action, too.\n",
        "    # Actually it can but learning would take longer.\n",
        "    env = atari_wrappers.FireResetEnv(env)\n",
        "\n",
        "    # This wrapper transforms rewards to {-1, 0, 1} according to their sign\n",
        "    if clip_rewards:\n",
        "        env = atari_wrappers.ClipRewardEnv(env)\n",
        "\n",
        "    # This wrapper is yours :)\n",
        "    env = PreprocessAtariObs(env)\n",
        "    return env"
      ]
    },
    {
      "cell_type": "markdown",
      "metadata": {
        "id": "3fh2WR-XhZHV"
      },
      "source": [
        "### Frame buffer\n",
        "\n",
        "Our agent can only process one observation at a time, so we gotta make sure it contains enough information to find optimal actions. For instance, agent has to react to moving objects so he must be able to measure object's velocity.\n",
        "\n",
        "To do so, we introduce a buffer that stores 4 last images. This time everything is pre-implemented for you, not really by the staff of the course :)"
      ]
    },
    {
      "cell_type": "code",
      "execution_count": 7,
      "metadata": {
        "id": "8dzs0mQ7hZHV",
        "scrolled": true
      },
      "outputs": [],
      "source": [
        "from framebuffer import FrameBuffer\n",
        "\n",
        "\n",
        "def make_env(clip_rewards=True, seed=None):\n",
        "    env = gym.make(\"BreakoutNoFrameskip-v4\")  # create raw env\n",
        "    if seed is not None:\n",
        "        env.seed(seed)\n",
        "\n",
        "    env = PrimaryAtariWrap(env, clip_rewards)\n",
        "    env = FrameBuffer(env, n_frames=4, dim_order='pytorch')\n",
        "    return env\n",
        "\n",
        "\n",
        "env = make_env()\n",
        "env.reset()\n",
        "n_actions = env.action_space.n\n",
        "state_shape = env.observation_space.shape"
      ]
    },
    {
      "cell_type": "code",
      "execution_count": 8,
      "metadata": {
        "colab": {
          "base_uri": "https://localhost:8080/",
          "height": 1000
        },
        "id": "yyisP1b7hZHV",
        "outputId": "005a1f1d-39b8-4384-bb97-b734bb6a9985"
      },
      "outputs": [
        {
          "data": {
            "image/png": "[encoded data removed]",
            "text/plain": [
              "<Figure size 864x720 with 1 Axes>"
            ]
          },
          "metadata": {
            "needs_background": "light"
          },
          "output_type": "display_data"
        },
        {
          "data": {
            "image/png": "[encoded data removed]",
            "text/plain": [
              "<Figure size 1080x1080 with 1 Axes>"
            ]
          },
          "metadata": {
            "needs_background": "light"
          },
          "output_type": "display_data"
        }
      ],
      "source": [
        "import utils\n",
        "\n",
        "\n",
        "for _ in range(12):\n",
        "    obs, _, _, _ = env.step(env.action_space.sample())\n",
        "\n",
        "plt.figure(figsize=[12, 10])\n",
        "plt.title(\"Game image\")\n",
        "plt.imshow(env.render(\"rgb_array\"))\n",
        "plt.show()\n",
        "\n",
        "plt.figure(figsize=[15, 15])\n",
        "plt.title(\"Agent observation (4 frames top to bottom)\")\n",
        "plt.imshow(utils.img_by_obs(obs, state_shape), cmap='gray')\n",
        "plt.show()"
      ]
    },
    {
      "cell_type": "markdown",
      "metadata": {
        "id": "dT3x8RFKhZHV"
      },
      "source": [
        "## DQN as it is"
      ]
    },
    {
      "cell_type": "markdown",
      "metadata": {
        "id": "Rph92xkdhZHV"
      },
      "source": [
        "### Building a network\n",
        "\n",
        "We now need to build a neural network that can map images to state q-values. This network will be called on every agent's step so it better not be resnet-152 unless you have an array of GPUs. Instead, you can use strided convolutions with a small number of features to save time and memory.\n",
        "\n",
        "You can build any architecture you want, but for reference, here's something that will more or less work:"
      ]
    },
    {
      "cell_type": "markdown",
      "metadata": {
        "id": "ST8jhXhthZHV"
      },
      "source": [
        "![img](https://github.com/yandexdataschool/Practical_RL/raw/master/yet_another_week/_resource/dqn_arch.png)"
      ]
    },
    {
      "cell_type": "code",
      "execution_count": 9,
      "metadata": {
        "id": "rJ3uussQhZHW"
      },
      "outputs": [],
      "source": [
        "import torch\n",
        "import torch.nn as nn\n",
        "import torch.nn.functional as F\n",
        "class Flatten(nn.Module):\n",
        "    def __init__(self):\n",
        "        super().__init__()\n",
        "    def forward(self, x):\n",
        "        return x.view(x.size(0), -1)\n",
        "\n",
        "class DQNAgent(nn.Module):\n",
        "    def __init__(self, state_shape, n_actions, epsilon=0):\n",
        "        super().__init__()\n",
        "        self.epsilon = epsilon\n",
        "        self.n_actions = n_actions\n",
        "        self.state_shape = state_shape\n",
        "        self.state_dim = 1\n",
        "        for dim in state_shape:\n",
        "            self.state_dim *= dim\n",
        "\n",
        "        # Network body\n",
        "        self.net = nn.Sequential(\n",
        "            nn.Conv2d(4, 16, 3, (2, 2)),\n",
        "            nn.ReLU(),\n",
        "            nn.Conv2d(16, 32, 3, (2, 2)),\n",
        "            nn.ReLU(),\n",
        "            nn.Conv2d(32, 64, 3, (2, 2)),\n",
        "            nn.ReLU(),\n",
        "            nn.Flatten(),\n",
        "            nn.Linear(3136, n_actions)\n",
        "        )\n",
        "        \n",
        "        '''\n",
        "\n",
        "        self.net = nn.Sequential(\n",
        "            nn.Conv2d(4, 16, kernel_size=3, padding=1),\n",
        "            nn.MaxPool2d(4),\n",
        "            nn.ReLU(),\n",
        "            nn.Conv2d(16, 32, kernel_size=3, padding=1),\n",
        "            nn.MaxPool2d(4),\n",
        "            nn.ReLU(),\n",
        "            nn.Conv2d(32, 64, kernel_size=3, padding=1),\n",
        "            nn.MaxPool2d(2),\n",
        "            nn.Conv2d(64, 128, kernel_size=3, padding=1),\n",
        "            nn.MaxPool2d(2),\n",
        "            Flatten(),\n",
        "            nn.ReLU(),\n",
        "            nn.Linear(128, 256),\n",
        "            nn.ReLU(),\n",
        "            nn.Linear(256, n_actions)\n",
        "        )\n",
        "        '''\n",
        "\n",
        "\n",
        "\n",
        "    def forward(self, state_t):\n",
        "        \"\"\"\n",
        "        takes agent's observation (tensor), returns qvalues (tensor)\n",
        "        :param state_t: a batch of 4-frame buffers, shape = [batch_size, 4, h, w]\n",
        "        \"\"\"\n",
        "        # Network usage to compute qvalues for given state\n",
        "        qvalues = self.net(state_t)\n",
        "\n",
        "        assert qvalues.requires_grad, \"qvalues must be a torch tensor with grad\"\n",
        "        assert (\n",
        "            len(qvalues.shape) == 2\n",
        "            and qvalues.shape[0] == state_t.shape[0]\n",
        "            and qvalues.shape[1] == n_actions\n",
        "        )\n",
        "\n",
        "        return qvalues\n",
        "\n",
        "    def get_qvalues(self, states):\n",
        "        \"\"\"\n",
        "        like forward, but works on numpy arrays, not tensors\n",
        "        \"\"\"\n",
        "        model_device = next(self.parameters()).device\n",
        "        states = torch.tensor(states, device=model_device, dtype=torch.float)\n",
        "        qvalues = self.forward(states)\n",
        "        return qvalues.detach().cpu().numpy()\n",
        "\n",
        "    def sample_actions(self, qvalues):\n",
        "        \"\"\"pick actions given qvalues. Uses epsilon-greedy exploration strategy. \"\"\"\n",
        "        epsilon = self.epsilon\n",
        "        batch_size, n_actions = qvalues.shape\n",
        "\n",
        "        random_actions = np.random.choice(n_actions, size=batch_size)\n",
        "        best_actions = qvalues.argmax(axis=-1)\n",
        "\n",
        "        should_explore = np.random.choice([0, 1], batch_size, p=[1 - epsilon, epsilon])\n",
        "        return np.where(should_explore, random_actions, best_actions)"
      ]
    },
    {
      "cell_type": "code",
      "execution_count": 10,
      "metadata": {
        "id": "Ebp-jTxghZHW"
      },
      "outputs": [],
      "source": [
        "device = torch.device('cuda' if torch.cuda.is_available() else 'cpu')\n",
        "agent = DQNAgent(state_shape, n_actions, epsilon=0.5).to(device)"
      ]
    },
    {
      "cell_type": "markdown",
      "metadata": {
        "id": "Z1xNJfSyhZHW"
      },
      "source": [
        "Now let's try out our agent to see if it raises any errors."
      ]
    },
    {
      "cell_type": "code",
      "execution_count": 11,
      "metadata": {
        "id": "zKHs_BRRhZHW"
      },
      "outputs": [],
      "source": [
        "def evaluate(env, agent, n_games=1, greedy=False, t_max=10000):\n",
        "    \"\"\" Plays n_games full games. If greedy, picks actions as argmax(qvalues). Returns mean reward. \"\"\"\n",
        "    rewards = []\n",
        "    for _ in range(n_games):\n",
        "        s = env.reset()\n",
        "        reward = 0\n",
        "        for _ in range(t_max):\n",
        "            qvalues = agent.get_qvalues([s])\n",
        "            if greedy:\n",
        "                action = qvalues.argmax(axis=-1)[0]\n",
        "            else:\n",
        "                action = agent.sample_actions(qvalues)[0]\n",
        "\n",
        "            s, r, done, _ = env.step(action)\n",
        "            reward += r\n",
        "            if done:\n",
        "                break\n",
        "\n",
        "        rewards.append(reward)\n",
        "    return np.mean(rewards)"
      ]
    },
    {
      "cell_type": "code",
      "execution_count": 12,
      "metadata": {
        "colab": {
          "base_uri": "https://localhost:8080/"
        },
        "id": "AHnRpLhthZHW",
        "outputId": "3b6a9bb2-c86d-4385-e863-2429ac19ea9c"
      },
      "outputs": [
        {
          "name": "stderr",
          "output_type": "stream",
          "text": [
            "/usr/local/lib/python3.7/dist-packages/ipykernel_launcher.py:89: UserWarning: Creating a tensor from a list of numpy.ndarrays is extremely slow. Please consider converting the list to a single numpy.ndarray with numpy.array() before converting to a tensor. (Triggered internally at  ../torch/csrc/utils/tensor_new.cpp:210.)\n"
          ]
        },
        {
          "data": {
            "text/plain": [
              "0.0"
            ]
          },
          "execution_count": 12,
          "metadata": {},
          "output_type": "execute_result"
        }
      ],
      "source": [
        "evaluate(env, agent, n_games=1)"
      ]
    },
    {
      "cell_type": "markdown",
      "metadata": {
        "id": "_E8rA9g7hZHW"
      },
      "source": [
        "### Experience replay\n",
        "For this assignment, we provide you with experience replay buffer. If you implemented experience replay buffer in previous assignment, you can copy-paste it here.\n",
        "\n",
        "![img](https://github.com/yandexdataschool/Practical_RL/raw/master/yet_another_week/_resource/exp_replay.png)"
      ]
    },
    {
      "cell_type": "markdown",
      "metadata": {
        "id": "NlWN33SFhZHW"
      },
      "source": [
        "The interface is fairly simple:\n",
        "* `exp_replay.add(obs, act, rw, next_obs, done)` - saves (s,a,r,s',done) tuple into the buffer\n",
        "* `exp_replay.sample(batch_size)` - returns observations, actions, rewards, next_observations and is_done for `batch_size` random samples.\n",
        "* `len(exp_replay)` - returns number of elements stored in replay buffer."
      ]
    },
    {
      "cell_type": "code",
      "execution_count": 13,
      "metadata": {
        "id": "2rgimM9hhZHW"
      },
      "outputs": [],
      "source": [
        "from replay_buffer import ReplayBuffer\n",
        "\n",
        "\n",
        "exp_replay = ReplayBuffer(10)\n",
        "\n",
        "for _ in range(30):\n",
        "    exp_replay.add(env.reset(), env.action_space.sample(), 1.0, env.reset(), done=False)\n",
        "\n",
        "obs_batch, act_batch, reward_batch, next_obs_batch, is_done_batch = exp_replay.sample(5)\n",
        "\n",
        "assert (\n",
        "    len(exp_replay) == 10\n",
        "), \"experience replay size should be 10 because that's what maximum capacity is\""
      ]
    },
    {
      "cell_type": "code",
      "execution_count": 14,
      "metadata": {
        "id": "g9SlIMR2hZHW"
      },
      "outputs": [],
      "source": [
        "def play_and_record(initial_state, agent, env, exp_replay, n_steps=1):\n",
        "    \"\"\"\n",
        "    Play the game for exactly n steps, record every (s,a,r,s', done) to replay buffer.\n",
        "    Whenever game ends, add record with done=True and reset the game.\n",
        "    It is guaranteed that env has done=False when passed to this function.\n",
        "\n",
        "    PLEASE DO NOT RESET ENV UNLESS IT IS \"DONE\"\n",
        "\n",
        "    :returns: return sum of rewards over time and the state in which the env stays\n",
        "    \"\"\"\n",
        "    s = initial_state\n",
        "    sum_rewards = 0\n",
        "\n",
        "    # Play the game for n_steps as per instructions above\n",
        "\n",
        "    for step in range(n_steps):\n",
        "        qvalues = agent.get_qvalues([s])\n",
        "        action = agent.sample_actions(qvalues)[0]\n",
        "        s_new, r, done, _ = env.step(action)\n",
        "        exp_replay.add(s, action, r, s_new, done)\n",
        "        sum_rewards += r\n",
        "\n",
        "        s = s_new\n",
        "        \n",
        "        if done:\n",
        "            done = False\n",
        "            s = env.reset()\n",
        "\n",
        "    return sum_rewards, s"
      ]
    },
    {
      "cell_type": "code",
      "execution_count": 15,
      "metadata": {
        "colab": {
          "base_uri": "https://localhost:8080/"
        },
        "id": "d7TWFgkGhZHW",
        "outputId": "d791ee07-e235-4e17-b6f0-9ea6ec39432e"
      },
      "outputs": [
        {
          "name": "stdout",
          "output_type": "stream",
          "text": [
            "Well done!\n"
          ]
        }
      ],
      "source": [
        "# testing\n",
        "exp_replay = ReplayBuffer(2000)\n",
        "\n",
        "state = env.reset()\n",
        "play_and_record(state, agent, env, exp_replay, n_steps=1000)\n",
        "\n",
        "# if you're using your own experience replay buffer, some of those tests may need correction.\n",
        "assert (\n",
        "    len(exp_replay) == 1000\n",
        "), \"play_and_record should have added exactly 1000 steps, \" \"but instead added %i\" % len(exp_replay)\n",
        "is_dones = list(zip(*exp_replay._storage))[-1]\n",
        "\n",
        "assert 0 < np.mean(is_dones) < 0.1, (\n",
        "    f\"Please make sure you restart the game whenever it is 'done' and record the is_done correctly into the buffer.\"\n",
        "    f\"Got {np.mean(is_dones)} is_done rate over {len(exp_replay)} steps. [If you think it's your tough luck, just re-run the test]\"\n",
        ")\n",
        "\n",
        "for _ in range(100):\n",
        "    obs_batch, act_batch, reward_batch, next_obs_batch, is_done_batch = exp_replay.sample(10)\n",
        "    assert obs_batch.shape == next_obs_batch.shape == (10,) + state_shape\n",
        "    assert act_batch.shape == (\n",
        "        10,\n",
        "    ), \"actions batch should have shape (10,) but is instead %s\" % str(act_batch.shape)\n",
        "    assert reward_batch.shape == (\n",
        "        10,\n",
        "    ), \"rewards batch should have shape (10,) but is instead %s\" % str(reward_batch.shape)\n",
        "    assert is_done_batch.shape == (\n",
        "        10,\n",
        "    ), \"is_done batch should have shape (10,) but is instead %s\" % str(is_done_batch.shape)\n",
        "    assert [int(i) in (0, 1) for i in is_dones], \"is_done should be strictly True or False\"\n",
        "    assert [0 <= a < n_actions for a in act_batch], \"actions should be within [0, n_actions]\"\n",
        "\n",
        "print(\"Well done!\")"
      ]
    },
    {
      "cell_type": "markdown",
      "metadata": {
        "id": "n-pQvtrwhZHX"
      },
      "source": [
        "### Target networks\n",
        "\n",
        "We also employ the so called \"target network\" - a copy of neural network weights to be used for reference Q-values:\n",
        "\n",
        "The network itself is an exact copy of agent network, but it's parameters are not trained. Instead, they are moved here from agent's actual network every so often.\n",
        "\n",
        "$$ Q_{reference}(s,a) = r + \\gamma \\cdot \\max _{a'} Q_{target}(s',a') $$\n",
        "\n",
        "![img](https://github.com/yandexdataschool/Practical_RL/raw/master/yet_another_week/_resource/target_net.png)"
      ]
    },
    {
      "cell_type": "code",
      "execution_count": 16,
      "metadata": {
        "colab": {
          "base_uri": "https://localhost:8080/"
        },
        "id": "MIn80voQhZHX",
        "outputId": "29a9fd49-8e89-470a-f09b-3cd27f6fb28f"
      },
      "outputs": [
        {
          "data": {
            "text/plain": [
              "<All keys matched successfully>"
            ]
          },
          "execution_count": 16,
          "metadata": {},
          "output_type": "execute_result"
        }
      ],
      "source": [
        "target_network = DQNAgent(agent.state_shape, agent.n_actions, epsilon=0.5).to(device)\n",
        "# This is how you can load weights from agent into target network\n",
        "target_network.load_state_dict(agent.state_dict())"
      ]
    },
    {
      "cell_type": "markdown",
      "metadata": {
        "id": "5NigolcGhZHX"
      },
      "source": [
        "### Learning with... Q-learning\n",
        "Here we write a function similar to `agent.update` from tabular q-learning."
      ]
    },
    {
      "cell_type": "markdown",
      "metadata": {
        "id": "9hS2DA5ihZHX"
      },
      "source": [
        "Compute Q-learning TD error:\n",
        "\n",
        "$$ L = { 1 \\over N} \\sum_i [ Q_{\\theta}(s,a) - Q_{reference}(s,a) ] ^2 $$\n",
        "\n",
        "With Q-reference defined as\n",
        "\n",
        "$$ Q_{reference}(s,a) = r(s,a) + \\gamma \\cdot max_{a'} Q_{target}(s', a') $$\n",
        "\n",
        "Where\n",
        "* $Q_{target}(s',a')$ denotes q-value of next state and next action predicted by __target_network__\n",
        "* $s, a, r, s'$ are current state, action, reward and next state respectively\n",
        "* $\\gamma$ is a discount factor defined two cells above.\n",
        "\n",
        "\n",
        "__Note 1:__ there's an example input below. Feel free to experiment with it before you write the function.\n",
        "\n",
        "__Note 2:__ compute_td_loss is a source of 99% of bugs in this homework. If reward doesn't improve, it often helps to go through it line by line [with a rubber duck](https://rubberduckdebugging.com/)."
      ]
    },
    {
      "cell_type": "code",
      "execution_count": 17,
      "metadata": {
        "id": "f7s2jghbhZHX"
      },
      "outputs": [],
      "source": [
        "def compute_td_loss(\n",
        "    states,\n",
        "    actions,\n",
        "    rewards,\n",
        "    next_states,\n",
        "    done,\n",
        "    agent,\n",
        "    target_network,\n",
        "    gamma=0.99,\n",
        "    check_shapes=False,\n",
        "):\n",
        "    \"\"\"Compute td loss using torch operations only. Use the formula above.\"\"\"\n",
        "    states = torch.tensor(\n",
        "        states, device=device, dtype=torch.float32\n",
        "    )  # shape: [batch_size, state_size]\n",
        "    actions = torch.tensor(actions, device=device, dtype=torch.long)  # shape: [batch_size]\n",
        "    rewards = torch.tensor(rewards, device=device, dtype=torch.float32)  # shape: [batch_size]\n",
        "    next_states = torch.tensor(\n",
        "        next_states, device=device, dtype=torch.float32\n",
        "    )  # shape: [batch_size, state_size]\n",
        "    done = torch.tensor(done, device=device, dtype=torch.bool)  # shape: [batch_size]\n",
        "\n",
        "    # get q-values for all actions in current states\n",
        "    predicted_qvalues = agent(states)\n",
        "\n",
        "    # select q-values for chosen actions\n",
        "    predicted_qvalues_for_actions = predicted_qvalues[range(states.shape[0]), actions]\n",
        "\n",
        "    # compute q-values for all actions in next states\n",
        "    predicted_next_qvalues = target_network(next_states)\n",
        "\n",
        "    # compute V*(next_states) using predicted next q-values\n",
        "    next_state_values = predicted_next_qvalues.max(dim=1).values\n",
        "\n",
        "    assert next_state_values.dtype == torch.float32\n",
        "\n",
        "    # compute \"target q-values\" for loss - it's what's inside square parentheses in the above formula.\n",
        "    # at the last state we shall use simplified formula: Q(s,a) = r(s,a) since s' doesn't exist\n",
        "    target_qvalues_for_actions = rewards + gamma * next_state_values\n",
        "    target_qvalues_for_actions = torch.where(done, rewards, target_qvalues_for_actions)\n",
        "\n",
        "    # mean squared error loss to minimize\n",
        "    loss = F.mse_loss(predicted_qvalues_for_actions, target_qvalues_for_actions.detach())\n",
        "\n",
        "    if check_shapes:\n",
        "        assert (\n",
        "            predicted_next_qvalues.data.dim() == 2\n",
        "        ), \"make sure you predicted q-values for all actions in next state\"\n",
        "        assert (\n",
        "            next_state_values.data.dim() == 1\n",
        "        ), \"make sure you computed V(s') as maximum over just the actions axis and not all axes\"\n",
        "        assert (\n",
        "            target_qvalues_for_actions.data.dim() == 1\n",
        "        ), \"there's something wrong with target q-values, they must be a vector\"\n",
        "\n",
        "    return loss"
      ]
    },
    {
      "cell_type": "markdown",
      "metadata": {
        "id": "FeIPIPNAhZHX"
      },
      "source": [
        "Sanity checks"
      ]
    },
    {
      "cell_type": "code",
      "execution_count": 18,
      "metadata": {
        "id": "8dL-VPmAhZHX"
      },
      "outputs": [],
      "source": [
        "obs_batch, act_batch, reward_batch, next_obs_batch, is_done_batch = exp_replay.sample(10)\n",
        "\n",
        "loss = compute_td_loss(\n",
        "    obs_batch,\n",
        "    act_batch,\n",
        "    reward_batch,\n",
        "    next_obs_batch,\n",
        "    is_done_batch,\n",
        "    agent,\n",
        "    target_network,\n",
        "    gamma=0.99,\n",
        "    check_shapes=True,\n",
        ")\n",
        "loss.backward()\n",
        "\n",
        "assert (\n",
        "    loss.requires_grad and tuple(loss.data.size()) == ()\n",
        "), \"you must return scalar loss - mean over batch\"\n",
        "assert np.any(\n",
        "    next(agent.parameters()).grad.data.cpu().numpy() != 0\n",
        "), \"loss must be differentiable w.r.t. network weights\"\n",
        "assert np.all(\n",
        "    next(target_network.parameters()).grad is None\n",
        "), \"target network should not have grads\""
      ]
    },
    {
      "cell_type": "markdown",
      "metadata": {
        "id": "HmvLmcx9hZHX"
      },
      "source": [
        "## Main loop\n",
        "\n",
        "**If deadline is tonight and it has not converged:** It is ok. Send the notebook today and when it converges send it again.\n",
        "\n",
        "It's time to put everything together and see if it learns anything."
      ]
    },
    {
      "cell_type": "code",
      "execution_count": 19,
      "metadata": {
        "colab": {
          "base_uri": "https://localhost:8080/"
        },
        "id": "tcMTNyk5hZHX",
        "outputId": "2e64508f-1a4c-4deb-c2f2-1c935192c894"
      },
      "outputs": [
        {
          "data": {
            "text/plain": [
              "<All keys matched successfully>"
            ]
          },
          "execution_count": 19,
          "metadata": {},
          "output_type": "execute_result"
        }
      ],
      "source": [
        "# Choose your favourite seed.\n",
        "seed = 0\n",
        "\n",
        "env = make_env(seed)\n",
        "state_shape = env.observation_space.shape\n",
        "n_actions = env.action_space.n\n",
        "state = env.reset()\n",
        "\n",
        "agent = DQNAgent(state_shape, n_actions, epsilon=1).to(device)\n",
        "target_network = DQNAgent(state_shape, n_actions, epsilon=1).to(device)\n",
        "target_network.load_state_dict(agent.state_dict())"
      ]
    },
    {
      "cell_type": "markdown",
      "metadata": {
        "id": "b3llRLjShZHX"
      },
      "source": [
        "Buffer of size $10^4$ fits into 5 Gb RAM.\n",
        "\n",
        "Larger sizes ($10^5$ and $10^6$ are common) can be used. It can improve the learning, but $10^4$ is quiet enough. $10^2$ will probably fail learning."
      ]
    },
    {
      "cell_type": "code",
      "execution_count": 20,
      "metadata": {
        "colab": {
          "base_uri": "https://localhost:8080/"
        },
        "id": "IETsnmkshZHX",
        "outputId": "e0658eb0-14cf-406d-a8b6-3338346cfbdb"
      },
      "outputs": [
        {
          "name": "stdout",
          "output_type": "stream",
          "text": [
            "10000\n"
          ]
        }
      ],
      "source": [
        "exp_replay = ReplayBuffer(10_000)\n",
        "for i in range(100):\n",
        "    if not utils.is_enough_ram(min_available_gb=0.1):\n",
        "        print(\n",
        "            \"\"\"\n",
        "            Less than 100 Mb RAM available. \n",
        "            Make sure the buffer size in not too huge.\n",
        "            Also check, maybe other processes consume RAM heavily.\n",
        "            \"\"\"\n",
        "        )\n",
        "        break\n",
        "\n",
        "    play_and_record(state, agent, env, exp_replay, n_steps=100)\n",
        "\n",
        "print(len(exp_replay))"
      ]
    },
    {
      "cell_type": "code",
      "execution_count": 21,
      "metadata": {
        "id": "ei5Pl-ZOhZHX"
      },
      "outputs": [],
      "source": [
        "timesteps_per_epoch = 1\n",
        "batch_size = 16\n",
        "total_steps = 2_000_000\n",
        "decay_steps = 1_000_000\n",
        "\n",
        "opt = torch.optim.Adam(agent.parameters(), lr=1e-4)\n",
        "\n",
        "init_epsilon = 1\n",
        "final_epsilon = 0.1\n",
        "\n",
        "loss_freq = 50\n",
        "refresh_target_network_freq = 5000\n",
        "eval_freq = 5000\n",
        "\n",
        "max_grad_norm = 50\n",
        "\n",
        "n_lives = 5"
      ]
    },
    {
      "cell_type": "code",
      "execution_count": 22,
      "metadata": {
        "id": "Pux3ocdfhZHX"
      },
      "outputs": [],
      "source": [
        "mean_rw_history = []\n",
        "td_loss_history = []\n",
        "grad_norm_history = []\n",
        "initial_state_v_history = []"
      ]
    },
    {
      "cell_type": "code",
      "execution_count": 23,
      "metadata": {
        "colab": {
          "base_uri": "https://localhost:8080/",
          "height": 426
        },
        "id": "Lefb4CEZhZHX",
        "outputId": "943dcc20-4df6-427f-910a-6ec794a58426",
        "scrolled": false
      },
      "outputs": [
        {
          "name": "stdout",
          "output_type": "stream",
          "text": [
            "buffer size = 10000, epsilon = 0.10000\n"
          ]
        },
        {
          "data": {
            "image/png": "[encoded data removed]",
            "text/plain": [
              "<Figure size 1152x648 with 4 Axes>"
            ]
          },
          "metadata": {
            "needs_background": "light"
          },
          "output_type": "display_data"
        }
      ],
      "source": [
        "from IPython.display import clear_output\n",
        "\n",
        "\n",
        "state = env.reset()\n",
        "for step in range(total_steps + 1):\n",
        "    if not utils.is_enough_ram(min_available_gb=0.1):\n",
        "        print('less that 100 Mb RAM available, freezing')\n",
        "        print('make sure everything is ok and make KeyboardInterrupt to continue')\n",
        "        try:\n",
        "            while True:\n",
        "                pass\n",
        "        except KeyboardInterrupt:\n",
        "            pass\n",
        "\n",
        "    agent.epsilon = utils.linear_decay(init_epsilon, final_epsilon, step, decay_steps)\n",
        "\n",
        "    # play\n",
        "    _, state = play_and_record(state, agent, env, exp_replay, timesteps_per_epoch)\n",
        "\n",
        "    # train\n",
        "    # Sample batch_size of data from experience replay and compute td loss.\n",
        "    obs_batch, act_batch, reward_batch, next_obs_batch, is_done_batch = exp_replay.sample(batch_size)\n",
        "    loss = compute_td_loss(obs_batch,\n",
        "        act_batch,\n",
        "        reward_batch,\n",
        "        next_obs_batch,\n",
        "        is_done_batch,\n",
        "        agent,\n",
        "        target_network,\n",
        "        gamma=0.99,\n",
        "        check_shapes=False,\n",
        "    )\n",
        "\n",
        "    opt.zero_grad()\n",
        "    loss.backward()\n",
        "    grad_norm = nn.utils.clip_grad_norm_(agent.parameters(), max_grad_norm)\n",
        "    opt.step()\n",
        "\n",
        "    if step % loss_freq == 0:\n",
        "        td_loss_history.append(loss.item())\n",
        "        grad_norm_history.append(grad_norm.item())\n",
        "\n",
        "    if step % refresh_target_network_freq == 0:\n",
        "        # Load agent weights into target_network\n",
        "        target_network.load_state_dict(agent.state_dict())\n",
        "\n",
        "    if step % eval_freq == 0:\n",
        "        # eval the agent\n",
        "        mean_rw_history.append(\n",
        "            evaluate(make_env(seed=step), agent, n_games=3, greedy=True, t_max=1000)\n",
        "        )\n",
        "        initial_state_q_values = agent.get_qvalues([make_env(seed=step).reset()])\n",
        "        initial_state_v_history.append(np.max(initial_state_q_values))\n",
        "\n",
        "        clear_output(True)\n",
        "        print(\"buffer size = %i, epsilon = %.5f\" % (len(exp_replay), agent.epsilon))\n",
        "\n",
        "        plt.figure(figsize=[16, 9])\n",
        "        plt.subplot(2, 2, 1)\n",
        "        plt.title(\"Mean reward per episode\")\n",
        "        plt.plot(mean_rw_history)\n",
        "        plt.grid()\n",
        "\n",
        "        assert not np.isnan(td_loss_history[-1])\n",
        "        plt.subplot(2, 2, 2)\n",
        "        plt.title(\"TD loss history (smoothened)\")\n",
        "        plt.plot(utils.smoothen(td_loss_history))\n",
        "        plt.grid()\n",
        "\n",
        "        plt.subplot(2, 2, 3)\n",
        "        plt.title(\"Initial state V\")\n",
        "        plt.plot(initial_state_v_history)\n",
        "        plt.grid()\n",
        "\n",
        "        plt.subplot(2, 2, 4)\n",
        "        plt.title(\"Grad norm history (smoothened)\")\n",
        "        plt.plot(utils.smoothen(grad_norm_history))\n",
        "        plt.grid()\n",
        "\n",
        "        plt.show()"
      ]
    },
    {
      "attachments": {},
      "cell_type": "markdown",
      "metadata": {
        "id": "5EhmbDTa4_Dm"
      },
      "source": [
        "# Conclusions\n",
        "#### **Model was training for 5 hours!!! :( (Google colab)**\n",
        "And I should watch for it to avoid interface interrupt...\n",
        "\n",
        "Moreover, it is in case of decreasing the total step number (3M -> 2M)\n"
      ]
    },
    {
      "cell_type": "markdown",
      "metadata": {
        "id": "UF0yo9echZHY"
      },
      "source": [
        "Agent is evaluated for 1 life, not for a whole episode of 5 lives. Rewards in evaluation are also truncated. Cuz this is what environment the agent is learning in and in this way mean rewards per life can be compared with initial state value\n",
        "\n",
        "The goal is to get 10 points in the real env. So 2 or better 3 points in the preprocessed one will probably be enough. You can interrupt learning then."
      ]
    },
    {
      "cell_type": "markdown",
      "metadata": {
        "id": "y7rhx1fdMyAd"
      },
      "source": []
    },
    {
      "cell_type": "markdown",
      "metadata": {
        "id": "rvI0F_NkhZHY"
      },
      "source": [
        "Final scoring is done on a whole episode with all 5 lives."
      ]
    },
    {
      "cell_type": "code",
      "execution_count": 24,
      "metadata": {
        "colab": {
          "base_uri": "https://localhost:8080/"
        },
        "id": "X20BC5RshZHY",
        "outputId": "cc9de6f2-5a30-43d3-ef82-5b9bf92999b8"
      },
      "outputs": [
        {
          "name": "stdout",
          "output_type": "stream",
          "text": [
            "final score: 17.0\n",
            "Cool!\n"
          ]
        }
      ],
      "source": [
        "final_score = (\n",
        "    evaluate(make_env(clip_rewards=False, seed=9), agent, n_games=30, greedy=True, t_max=10_000)\n",
        "    * n_lives\n",
        ")\n",
        "print('final score:', final_score)\n",
        "assert final_score > 10, 'not as cool as DQN can'\n",
        "print('Cool!')"
      ]
    },
    {
      "cell_type": "markdown",
      "metadata": {
        "id": "kCFeQM_EhZHY"
      },
      "source": [
        "## How to interpret plots:\n",
        "\n",
        "This aint no supervised learning so don't expect anything to improve monotonously. \n",
        "* **TD loss** is the MSE between agent's current Q-values and target Q-values. It may slowly increase or decrease, it's ok. The \"not ok\" behavior includes going NaN or stayng at exactly zero before agent has perfect performance.\n",
        "* **grad norm** just shows the intensivity of training. Not ok is growing to values of about 100 (or maybe even 50) though it depends on network architecture.\n",
        "* **mean reward** is the expected sum of r(s,a) agent gets over the full game session. It will oscillate, but on average it should get higher over time (after a few thousand iterations...). \n",
        " * In basic q-learning implementation it takes about 40k steps to \"warm up\" agent before it starts to get better.\n",
        "* **Initial state V** is the expected discounted reward for episode in the oppinion of the agent. It should behave more smoothly than **mean reward**. It should get higher over time but sometimes can experience drawdowns because of the agaent's overestimates.\n",
        "* **buffer size** - this one is simple. It should go up and cap at max size.\n",
        "* **epsilon** - agent's willingness to explore. If you see that agent's already at 0.01 epsilon before it's average reward is above 0 - it means you need to increase epsilon. Set it back to some 0.2 - 0.5 and decrease the pace at which it goes down.\n",
        "* Smoothing of plots is done with a gaussian kernel\n",
        "\n",
        "At first your agent will lose quickly. Then it will learn to suck less and at least hit the ball a few times before it loses. Finally it will learn to actually score points.\n",
        "\n",
        "**Training will take time.** A lot of it actually. Probably you will not see any improvment during first **150k** time steps (note that by default in this notebook agent is evaluated every 5000 time steps).\n",
        "\n",
        "But hey, long training time isn't _that_ bad:\n",
        "![img](https://github.com/yandexdataschool/Practical_RL/raw/master/yet_another_week/_resource/training.png)"
      ]
    },
    {
      "cell_type": "markdown",
      "metadata": {
        "id": "UwXIhyyghZHY"
      },
      "source": [
        "## About hyperparameters:\n",
        "\n",
        "The task has something in common with supervised learning: loss is optimized through the buffer (instead of Train dataset). But the distribution of states and actions in the buffer **is not stationary** and depends on the policy that generated it. It can even happen that the mean TD error across the buffer is very low but the performance is extremely poor (imagine the agent collecting data to the buffer always manages to avoid the ball).\n",
        "\n",
        "* Total timesteps and training time: It seems to be so huge, but actually it is normal for RL.\n",
        "\n",
        "* $\\epsilon$ decay shedule was taken from the original paper and is like traditional for epsilon-greedy policies. At the beginning of the training the agent's greedy policy is poor so many random actions should be taken.\n",
        "\n",
        "* Optimizer: In the original paper RMSProp was used (they did not have Adam in 2013) and it can work not worse than Adam. For us Adam was default and it worked.\n",
        "\n",
        "* lr: $10^{-3}$ would probably be too huge\n",
        "\n",
        "* batch size: This one can be very important: if it is too small the agent can fail to learn. Huge batch takes more time to process. If batch of size 8 can not be processed on the hardware you use take 2 (or even 4) batches of size 4, divide the loss on them by 2 (or 4) and make optimization step after both backward() calls in torch.\n",
        "\n",
        "* target network update frequency: has something in common with learning rate. Too frequent updates can lead to divergence. Too rare can lead to slow leraning. For millions of total timesteps thousands of inner steps seem ok. One iteration of target network updating is an iteration of the (this time approximate) $\\gamma$-compression that stands behind Q-learning. The more inner steps it makes the more accurate is the compression.\n",
        "* max_grad_norm - just huge enough. In torch clip_grad_norm also evaluates the norm before clipping and it can be convenient for logging."
      ]
    },
    {
      "cell_type": "markdown",
      "metadata": {
        "id": "XeRJxPPChZHY"
      },
      "source": [
        "### Video"
      ]
    },
    {
      "cell_type": "code",
      "execution_count": 32,
      "metadata": {
        "id": "f2Vebwv7hZHY",
        "scrolled": false
      },
      "outputs": [],
      "source": [
        "import gym.wrappers\n",
        "\n",
        "\n",
        "with gym.wrappers.Monitor(make_env(), directory=\"videos\", force=True) as env_monitor:\n",
        "    sessions = [evaluate(env_monitor, agent, n_games=n_lives, greedy=True) for _ in range(10)]"
      ]
    },
    {
      "cell_type": "code",
      "execution_count": 37,
      "metadata": {
        "colab": {
          "base_uri": "https://localhost:8080/",
          "height": 502
        },
        "id": "ktqKY-vthZHY",
        "outputId": "72b14d83-d384-4c9e-93a1-2021329cd681"
      },
      "outputs": [
        {
          "data": {
            "text/html": [
              "\n",
              "<video width=\"640\" height=\"480\" controls>\n",
              "  <source src=\"data:video/mp4;base64,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\" type=\"video/mp4\">\n",
              "</video>\n"
            ],
            "text/plain": [
              "<IPython.core.display.HTML object>"
            ]
          },
          "execution_count": 37,
          "metadata": {},
          "output_type": "execute_result"
        }
      ],
      "source": [
        "from base64 import b64encode\n",
        "from pathlib import Path\n",
        "\n",
        "from IPython.display import HTML\n",
        "\n",
        "\n",
        "video_paths = sorted([s for s in Path(\"videos\").iterdir() if s.suffix == \".mp4\"])\n",
        "video_path = video_paths[-1]  # You can also try other indices\n",
        "\n",
        "if \"google.colab\" in sys.modules:\n",
        "    # https://stackoverflow.com/a/57378660/1214547\n",
        "    with video_path.open('rb') as fp:\n",
        "        mp4 = fp.read()\n",
        "    data_url = \"data:video/mp4;base64,\" + b64encode(mp4).decode()\n",
        "else:\n",
        "    data_url = str(video_path)\n",
        "\n",
        "HTML(\n",
        "    \"\"\"\n",
        "<video width=\"640\" height=\"480\" controls>\n",
        "  <source src=\"{}\" type=\"video/mp4\">\n",
        "</video>\n",
        "\"\"\".format(\n",
        "        data_url\n",
        "    )\n",
        ")"
      ]
    },
    {
      "cell_type": "markdown",
      "metadata": {
        "id": "NcmnPS0HhZHY"
      },
      "source": [
        "## Let's have a closer look at this.\n",
        "\n",
        "If average episode score is below 200 using all 5 lives, then probably DQN has not converged fully. But anyway let's make a more complete record of an episode."
      ]
    },
    {
      "cell_type": "code",
      "execution_count": 39,
      "metadata": {
        "colab": {
          "base_uri": "https://localhost:8080/"
        },
        "id": "X8KeETQXhZHY",
        "outputId": "642a972d-f2ec-408c-f34d-c995e40f98cb"
      },
      "outputs": [
        {
          "name": "stdout",
          "output_type": "stream",
          "text": [
            "total reward for life: 4.0\n",
            "states\n",
            "v_mc\n",
            "v_agent\n",
            "q_spreads\n",
            "td_errors\n",
            "rewards\n",
            "episode_finished\n"
          ]
        }
      ],
      "source": [
        "eval_env = make_env(clip_rewards=False)\n",
        "record = utils.play_and_log_episode(eval_env, agent)\n",
        "print('total reward for life:', np.sum(record['rewards']))\n",
        "for key in record:\n",
        "    print(key)"
      ]
    },
    {
      "cell_type": "code",
      "execution_count": 40,
      "metadata": {
        "colab": {
          "base_uri": "https://localhost:8080/",
          "height": 350
        },
        "id": "fEZiFTvZhZHY",
        "outputId": "380572a6-ee09-46a9-a45d-d3442b351c0b"
      },
      "outputs": [
        {
          "data": {
            "image/png": "[encoded data removed]",
            "text/plain": [
              "<Figure size 360x360 with 1 Axes>"
            ]
          },
          "metadata": {
            "needs_background": "light"
          },
          "output_type": "display_data"
        }
      ],
      "source": [
        "fig = plt.figure(figsize=(5, 5))\n",
        "ax = fig.add_subplot(1, 1, 1)\n",
        "\n",
        "ax.scatter(record['v_mc'], record['v_agent'])\n",
        "ax.plot(sorted(record['v_mc']), sorted(record['v_mc']), 'black', linestyle='--', label='x=y')\n",
        "\n",
        "ax.grid()\n",
        "ax.legend()\n",
        "ax.set_title('State Value Estimates')\n",
        "ax.set_xlabel('Monte-Carlo')\n",
        "ax.set_ylabel('Agent')\n",
        "\n",
        "plt.show()"
      ]
    },
    {
      "cell_type": "markdown",
      "metadata": {
        "id": "sBOV5NPRhZHY"
      },
      "source": [
        "$\\hat V_{Monte-Carlo}(s_t) = \\sum_{\\tau=0}^{episode~end} \\gamma^{\\tau-t}r_t$"
      ]
    },
    {
      "cell_type": "markdown",
      "metadata": {
        "id": "ANPrBjOShZHY"
      },
      "source": [
        "Is there a big bias? It's ok, anyway it works."
      ]
    },
    {
      "attachments": {},
      "cell_type": "markdown",
      "metadata": {
        "id": "JEdgrSd0hZHZ"
      },
      "source": [
        "## Modifications to DQN.\n",
        "\n",
        "For inspiration see [Rainbow](https://arxiv.org/abs/1710.02298) - a version of q-learning that combines lots of them.\n",
        "\n",
        "Some modifications:\n",
        "* [Prioritized experience replay](https://arxiv.org/abs/1511.05952)\n",
        "* [double q-learning](https://arxiv.org/abs/1509.06461)\n",
        "* [dueling q-learning](https://arxiv.org/abs/1511.06581)\n",
        "* multi-step heuristics (see [Rainbow](https://arxiv.org/abs/1710.02298))\n",
        "* [distributional RL](https://arxiv.org/abs/1707.06887)(distributional and distributed stand for different things here) \n",
        "\n",
        "Distributed RL [article](https://arxiv.org/pdf/1602.01783.pdf)"
      ]
    },
    {
      "attachments": {},
      "cell_type": "markdown",
      "metadata": {
        "id": "k0WkfLBGhZHZ"
      },
      "source": []
    },
    {
      "cell_type": "code",
      "execution_count": null,
      "metadata": {
        "id": "3WyEzf_ShZHZ"
      },
      "outputs": [],
      "source": []
    }
  ],
  "metadata": {
    "accelerator": "GPU",
    "anaconda-cloud": {},
    "colab": {
      "collapsed_sections": [],
      "name": "Копия блокнота \"Lab2_Atari_DQN.ipynb\"",
      "provenance": []
    },
    "kernelspec": {
      "display_name": "base",
      "language": "python",
      "name": "python3"
    },
    "language_info": {
      "codemirror_mode": {
        "name": "ipython",
        "version": 3
      },
      "file_extension": ".py",
      "mimetype": "text/x-python",
      "name": "python",
      "nbconvert_exporter": "python",
      "pygments_lexer": "ipython3",
      "version": "3.8.15 (default, Nov 24 2022, 15:19:38) \n[GCC 11.2.0]"
    },
    "vscode": {
      "interpreter": {
        "hash": "b9e733ad0320ee6eeb44c3255968b2ba7a5cded3238d4860b3a8232f88ba79c4"
      }
    }
  },
  "nbformat": 4,
  "nbformat_minor": 0
}
