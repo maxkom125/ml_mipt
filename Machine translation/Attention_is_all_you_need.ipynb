{
  "cells": [
    {
      "cell_type": "markdown",
      "metadata": {
        "id": "ztcPpl6hPsAU"
      },
      "source": [
        "# Lab 1"
      ]
    },
    {
      "attachments": {},
      "cell_type": "markdown",
      "metadata": {},
      "source": [
        "# Implemented the model from the article [Attention is All You Need](https://arxiv.org/abs/1706.03762)\n",
        "\n",
        "I did't achieve good accuracy. Colab blocked the GPU, I didn’t have time to find out precision.\n",
        "\n",
        "One issue:\n",
        "\n",
        "CUDA out of memory - decreased batch_size"
      ]
    },
    {
      "attachments": {},
      "cell_type": "markdown",
      "metadata": {
        "id": "6raI4E_fPsAW"
      },
      "source": [
        "## Part 2: Neural Machine Translation in the wild\n",
        "Task: to get the best translation you can for the EN-RU translation task.\n",
        "\n",
        "Basic approach using RNNs as encoder and decoder is implemented for you. \n",
        "\n",
        "Your ultimate task is to use the techniques we've covered, e.g.\n",
        "\n",
        "* Optimization enhancements (e.g. learning rate decay)\n",
        "\n",
        "* CNN encoder (with or without positional encoding)\n",
        "\n",
        "* attention/self-attention mechanism\n",
        "\n",
        "* pretraining the language model\n",
        "\n",
        "* [Byte Pair Encoding](https://github.com/rsennrich/subword-nmt)\n",
        "\n",
        "* or just fine-tunning BERT ;)\n",
        "\n",
        "to improve the translation quality. \n",
        "\n",
        "__Please use at least three different approaches/models and compare them (translation quality/complexity/training and evaluation time).__\n",
        "\n",
        "Write down some summary on your experiments and illustrate it with convergence plots/metrics and your thoughts. Just like you would approach a real problem."
      ]
    },
    {
      "cell_type": "code",
      "execution_count": 1,
      "metadata": {
        "colab": {
          "base_uri": "https://localhost:8080/"
        },
        "id": "ORBsRFA-PsAY",
        "outputId": "d3dfce90-422e-4df9-9812-cfea6b4c968f"
      },
      "outputs": [
        {
          "name": "stdout",
          "output_type": "stream",
          "text": [
            "--2022-06-14 09:49:38--  https://raw.githubusercontent.com/girafe-ai/ml-mipt/master/datasets/Machine_translation_EN_RU/data.txt\n",
            "Resolving raw.githubusercontent.com (raw.githubusercontent.com)... 185.199.108.133, 185.199.109.133, 185.199.110.133, ...\n",
            "Connecting to raw.githubusercontent.com (raw.githubusercontent.com)|185.199.108.133|:443... connected.\n",
            "HTTP request sent, awaiting response... 200 OK\n",
            "Length: 12905334 (12M) [text/plain]\n",
            "Saving to: ‘data.txt’\n",
            "\n",
            "data.txt            100%[===================>]  12.31M  --.-KB/s    in 0.06s   \n",
            "\n",
            "2022-06-14 09:49:39 (198 MB/s) - ‘data.txt’ saved [12905334/12905334]\n",
            "\n"
          ]
        }
      ],
      "source": [
        "# Thanks to YSDA NLP course team for the data\n",
        "# (who thanks tilda and deephack teams for the data in their turn)\n",
        "!wget -nc https://raw.githubusercontent.com/girafe-ai/ml-mipt/master/datasets/Machine_translation_EN_RU/data.txt"
      ]
    },
    {
      "cell_type": "markdown",
      "metadata": {
        "id": "3ihZ_nVUmsyC"
      },
      "source": [
        "The `data.txt` is a tsv file, each line of which contains a sentence in english and a corresponding translation, separated by `\\t`. We'll load it into memory and create a list of pairs, which would yield the same interface as with the torchtext's datasets."
      ]
    },
    {
      "cell_type": "code",
      "execution_count": 2,
      "metadata": {
        "colab": {
          "base_uri": "https://localhost:8080/"
        },
        "id": "_wzRffwfgizj",
        "outputId": "72319872-08cc-4d26-9f9f-d5b624ad50bf"
      },
      "outputs": [
        {
          "name": "stdout",
          "output_type": "stream",
          "text": [
            "Dataset size 50,000\n",
            "Sample:\n"
          ]
        },
        {
          "data": {
            "text/plain": [
              "[['Cordelia Hotel is situated in Tbilisi, a 3-minute walk away from Saint Trinity Church.',\n",
              "  'Отель Cordelia расположен в Тбилиси, в 3 минутах ходьбы от Свято-Троицкого собора.'],\n",
              " ['At Tupirmarka Lodge you will find a 24-hour front desk, room service, and a snack bar.',\n",
              "  'В числе удобств лоджа Tupirmarka круглосуточная стойка регистрации и снэк-бар. Гости могут воспользоваться услугой доставки еды и напитков в номер.'],\n",
              " ['Featuring free WiFi in all areas, Naigao Xiaowo offers accommodation in Shanghai.',\n",
              "  'Апартаменты Naigao Xiaowo расположены в городе Шанхай. К услугам гостей бесплатный Wi-Fi во всех зонах.'],\n",
              " ['Each has a TV and a private bathroom with shower.',\n",
              "  'В вашем распоряжении также телевизор и собственная ванная комната с душем.'],\n",
              " ['Your room comes with air conditioning and satellite TV.',\n",
              "  'Номер оснащен кондиционером и спутниковым телевидением.']]"
            ]
          },
          "execution_count": 2,
          "metadata": {},
          "output_type": "execute_result"
        }
      ],
      "source": [
        "with open(\"data.txt\") as f:\n",
        "    data = [l.rstrip().split(\"\\t\") for l in f]\n",
        "\n",
        "print(f\"Dataset size {len(data):,}\")\n",
        "print(\"Sample:\")\n",
        "data[:5]"
      ]
    },
    {
      "cell_type": "markdown",
      "metadata": {
        "id": "BjDuhDOWPsAa"
      },
      "source": [
        "## Data preprocessing"
      ]
    },
    {
      "cell_type": "markdown",
      "metadata": {
        "id": "RW41CAd1ofXD"
      },
      "source": [
        "First of all, let's split our dataset into train, test and validation."
      ]
    },
    {
      "cell_type": "code",
      "execution_count": 3,
      "metadata": {
        "colab": {
          "base_uri": "https://localhost:8080/"
        },
        "id": "GXYV0vWaolpm",
        "outputId": "e743517a-c11a-49ca-f800-34e0b30478d8"
      },
      "outputs": [
        {
          "name": "stdout",
          "output_type": "stream",
          "text": [
            "Train size: 40000\n",
            "Test size: 7500\n",
            "Val size: 2500\n"
          ]
        }
      ],
      "source": [
        "import torch\n",
        "from torch.utils.data import random_split\n",
        "\n",
        "\n",
        "data_size = len(data)\n",
        "train_size = int(0.8 * data_size)\n",
        "test_size = int(0.15 * data_size)\n",
        "val_size = data_size - train_size - test_size\n",
        "train_data, test_data, val_data = random_split(\n",
        "    data, [train_size, test_size, val_size], generator=torch.Generator().manual_seed(42)\n",
        ")\n",
        "print(f\"Train size: {len(train_data)}\")\n",
        "print(f\"Test size: {len(test_data)}\")\n",
        "print(f\"Val size: {len(val_data)}\")"
      ]
    },
    {
      "cell_type": "markdown",
      "metadata": {
        "id": "5gGXkxD5odoA"
      },
      "source": [
        "Here comes the preprocessing. If you find pieces, that you don't understand, please, go back to 3rd week's practice notebook. The code is mostly taken from it.\n",
        "\n",
        "Do not hesitate to use BPE or more complex preprocessing pipeline ;)"
      ]
    },
    {
      "cell_type": "code",
      "execution_count": 4,
      "metadata": {
        "id": "6sGsE2moPsAa"
      },
      "outputs": [],
      "source": [
        "from nltk.tokenize import WordPunctTokenizer\n",
        "\n",
        "\n",
        "tokenizer = WordPunctTokenizer()\n",
        "\n",
        "\n",
        "def tokenize(sent):\n",
        "    return tokenizer.tokenize(sent.lower())"
      ]
    },
    {
      "cell_type": "code",
      "execution_count": 5,
      "metadata": {
        "id": "LmshoKhRpQVj"
      },
      "outputs": [],
      "source": [
        "from collections import Counter\n",
        "\n",
        "from torchtext.vocab import vocab as Vocab\n",
        "\n",
        "\n",
        "src_counter = Counter()\n",
        "trg_counter = Counter()\n",
        "for src, trg in train_data:\n",
        "    src_counter.update(tokenize(src))\n",
        "    trg_counter.update(tokenize(trg))\n",
        "\n",
        "src_vocab = Vocab(src_counter, min_freq=3)\n",
        "trg_vocab = Vocab(trg_counter, min_freq=3)"
      ]
    },
    {
      "cell_type": "code",
      "execution_count": 6,
      "metadata": {
        "colab": {
          "base_uri": "https://localhost:8080/"
        },
        "id": "RxBsel4JpaTP",
        "outputId": "2f106b3b-8a77-4a0b-9d67-cbaa9b895501"
      },
      "outputs": [
        {
          "name": "stdout",
          "output_type": "stream",
          "text": [
            "Source (en) vocabulary size: 6711\n",
            "Target (ru) vocabulary size: 9310\n"
          ]
        }
      ],
      "source": [
        "unk_token = \"<unk>\"\n",
        "sos_token, eos_token, pad_token = \"<sos>\", \"<eos>\", \"<pad>\"\n",
        "specials = [sos_token, eos_token, pad_token]\n",
        "\n",
        "for vocab in [src_vocab, trg_vocab]:\n",
        "    if unk_token not in vocab:\n",
        "        vocab.insert_token(unk_token, index=0)\n",
        "        vocab.set_default_index(0)\n",
        "\n",
        "    for token in specials:\n",
        "        if token not in vocab:\n",
        "            vocab.append_token(token)\n",
        "\n",
        "print(f\"Source (en) vocabulary size: {len(src_vocab)}\")\n",
        "print(f\"Target (ru) vocabulary size: {len(trg_vocab)}\")"
      ]
    },
    {
      "cell_type": "code",
      "execution_count": 7,
      "metadata": {
        "id": "DpFjrwNHpiZq"
      },
      "outputs": [],
      "source": [
        "def encode(sent, vocab):\n",
        "    tokenized = [sos_token] + tokenize(sent) + [eos_token]\n",
        "    return [vocab[tok] for tok in tokenized]"
      ]
    },
    {
      "cell_type": "code",
      "execution_count": 8,
      "metadata": {
        "colab": {
          "base_uri": "https://localhost:8080/"
        },
        "id": "QpWUg9RuqGXm",
        "outputId": "08d64ffb-4fca-4104-84c8-9bf392ab89bb"
      },
      "outputs": [
        {
          "data": {
            "text/plain": [
              "(torch.Size([49, 64]), torch.Size([43, 64]))"
            ]
          },
          "execution_count": 8,
          "metadata": {},
          "output_type": "execute_result"
        }
      ],
      "source": [
        "from torch.nn.utils.rnn import pad_sequence\n",
        "from torch.utils.data import DataLoader\n",
        "\n",
        "\n",
        "def collate_batch(batch):\n",
        "    src_list, trg_list = [], []\n",
        "    for src, trg in batch:\n",
        "        src_encoded = encode(src, src_vocab)\n",
        "        src_list.append(torch.tensor(src_encoded))\n",
        "\n",
        "        trg_encoded = encode(trg, trg_vocab)\n",
        "        trg_list.append(torch.tensor(trg_encoded))\n",
        "\n",
        "    src_padded = pad_sequence(src_list, padding_value=src_vocab[pad_token])\n",
        "    trg_padded = pad_sequence(trg_list, padding_value=trg_vocab[pad_token])\n",
        "    return src_padded, trg_padded\n",
        "\n",
        "\n",
        "batch_size = 64\n",
        "train_dataloader = DataLoader(train_data, batch_size, shuffle=True, collate_fn=collate_batch)\n",
        "val_dataloader = DataLoader(val_data, batch_size, shuffle=False, collate_fn=collate_batch)\n",
        "test_dataloader = DataLoader(test_data, batch_size, shuffle=False, collate_fn=collate_batch)\n",
        "\n",
        "src_batch, trg_batch = next(iter(train_dataloader))\n",
        "src_batch.shape, trg_batch.shape"
      ]
    },
    {
      "cell_type": "markdown",
      "metadata": {
        "id": "r4CyezCLuM5R"
      },
      "source": [
        "## Layer\n"
      ]
    },
    {
      "cell_type": "code",
      "execution_count": 9,
      "metadata": {
        "id": "fZGoK23OH46q"
      },
      "outputs": [],
      "source": [
        "import random\n",
        "import torch.nn as nn\n",
        "from torch.nn.functional import relu"
      ]
    },
    {
      "cell_type": "code",
      "execution_count": 10,
      "metadata": {
        "id": "_ESKArtUHq8_"
      },
      "outputs": [],
      "source": [
        "class PositionwiseFeedforwardLayer(nn.Module):\n",
        "    def __init__(self, hid_dim, pf_dim, dropout):\n",
        "        super().__init__()\n",
        "        \n",
        "        self.fc_1 = nn.Linear(hid_dim, pf_dim)\n",
        "        self.fc_2 = nn.Linear(pf_dim, hid_dim)\n",
        "        \n",
        "        self.dropout = nn.Dropout(dropout)\n",
        "        self.relu = nn.ReLU()\n",
        "        \n",
        "    def forward(self, x):\n",
        "        #x = [batch size, seq len, hid dim]\n",
        "        x = self.dropout(self.relu(self.fc_1(x)))\n",
        "        #x = [batch size, seq len, pf dim]\n",
        "        x = self.dropout(self.fc_2(x))\n",
        "        #x = [batch size, seq len, hid dim]\n",
        "        return x"
      ]
    },
    {
      "cell_type": "markdown",
      "metadata": {
        "id": "p61AQ2QujQGX"
      },
      "source": [
        "## Encoder"
      ]
    },
    {
      "cell_type": "markdown",
      "metadata": {
        "id": "lnlURU5pdRX9"
      },
      "source": [
        "![image.png](data:image/png;base64,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)"
      ]
    },
    {
      "cell_type": "code",
      "execution_count": 11,
      "metadata": {
        "id": "IdYDSnUhc8AW"
      },
      "outputs": [],
      "source": [
        "class EncoderLayer(nn.Module):\n",
        "    def __init__(self, \n",
        "                 hid_dim, \n",
        "                 n_heads, \n",
        "                 pf_dim,  \n",
        "                 dropout,\n",
        "                 device):\n",
        "        super().__init__()\n",
        "        \n",
        "        self.self_attn_layer_norm = nn.LayerNorm(hid_dim)\n",
        "        self.ff_layer_norm = nn.LayerNorm(hid_dim)\n",
        "        self.self_attention = nn.MultiheadAttention(hid_dim, n_heads, dropout, device=device, batch_first=True)\n",
        "        self.positionwise_feedforward = PositionwiseFeedforwardLayer(hid_dim, \n",
        "                                                                     pf_dim, \n",
        "                                                                     dropout)\n",
        "        \n",
        "    def forward(self, src, src_mask):\n",
        "        #src = [batch size, src len, hid dim]\n",
        "        #src_mask = [batch size, src len]    \n",
        "        #1) self attention\n",
        "        tmp, _ = self.self_attention(src, src, src, src_mask)\n",
        "        #1.1) residual connection and layer norm (ADD & NORM)\n",
        "        src = self.self_attn_layer_norm(src + tmp)\n",
        "        #src = [batch size, src len, hid dim]\n",
        "\n",
        "        #2) positionwise feedforward\n",
        "        tmp = self.positionwise_feedforward(tmp)\n",
        "        #2.1) residual and layer norm (ADD & NORM)\n",
        "        src = self.ff_layer_norm(src + tmp)\n",
        "        #src = [batch size, src len, hid dim]\n",
        "        return src"
      ]
    },
    {
      "cell_type": "code",
      "execution_count": 12,
      "metadata": {
        "id": "bD369knwctN_"
      },
      "outputs": [],
      "source": [
        "class Encoder(nn.Module):\n",
        "    def __init__(self, \n",
        "                 input_dim, \n",
        "                 hid_dim, \n",
        "                 n_layers, \n",
        "                 n_heads, \n",
        "                 pf_dim,\n",
        "                 dropout, \n",
        "                 device,\n",
        "                 max_length = 200):\n",
        "        super().__init__()\n",
        "        \n",
        "        self.device = device\n",
        "        self.scale = torch.sqrt(torch.FloatTensor([hid_dim])).to(device)\n",
        "        \n",
        "        self.dropout = nn.Dropout(dropout)\n",
        "        \n",
        "        self.tok_embedding = nn.Embedding(input_dim, hid_dim)\n",
        "        self.pos_embedding = nn.Embedding(max_length, hid_dim)\n",
        "\n",
        "        self.layers = nn.ModuleList([EncoderLayer(hid_dim, \n",
        "                                          n_heads, \n",
        "                                          pf_dim,\n",
        "                                          dropout, \n",
        "                                          device) \n",
        "                              for _ in range(n_layers)])\n",
        "        \n",
        "    def forward(self, src, src_mask):\n",
        "        #src = [batch size, src len]\n",
        "        #src_mask = [batch size, src len]\n",
        "        batch_size = src.shape[0]\n",
        "        src_len = src.shape[1]\n",
        "\n",
        "        pos = torch.arange(0, src_len).unsqueeze(0)\n",
        "        # dublicate for entire batch\n",
        "        pos = pos.repeat(batch_size, 1).to(self.device)\n",
        "        #pos = [batch size, src len]\n",
        "\n",
        "        src = (self.tok_embedding(src) * self.scale) + self.pos_embedding(pos)\n",
        "        src = self.dropout(src)\n",
        "        #src = [batch size, src len, hid dim]\n",
        "\n",
        "        for layer in self.layers:\n",
        "            src = layer(src, src_mask)\n",
        "\n",
        "        #src = [batch size, src len, hid dim]\n",
        "        return src"
      ]
    },
    {
      "cell_type": "markdown",
      "metadata": {
        "id": "TgM8c5nijVhI"
      },
      "source": [
        "## Decoder"
      ]
    },
    {
      "cell_type": "markdown",
      "metadata": {
        "id": "l1wuXs3pjbKa"
      },
      "source": [
        "![image.png](data:image/png;base64,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)"
      ]
    },
    {
      "cell_type": "code",
      "execution_count": 13,
      "metadata": {
        "id": "D6Hp2BwJljX6"
      },
      "outputs": [],
      "source": [
        "class DecoderLayer(nn.Module):\n",
        "    def __init__(self, \n",
        "                 hid_dim, \n",
        "                 n_heads, \n",
        "                 pf_dim, \n",
        "                 dropout, \n",
        "                 device):\n",
        "        super().__init__()\n",
        "        \n",
        "        self.self_attn_layer_norm = nn.LayerNorm(hid_dim)\n",
        "        self.enc_attn_layer_norm = nn.LayerNorm(hid_dim)\n",
        "        self.ff_layer_norm = nn.LayerNorm(hid_dim)\n",
        "        self.self_attention    = nn.MultiheadAttention(hid_dim, n_heads, dropout, device=device, batch_first=True)\n",
        "        self.encoder_attention = nn.MultiheadAttention(hid_dim, n_heads, dropout, device=device, batch_first=True)\n",
        "        self.positionwise_feedforward = PositionwiseFeedforwardLayer(hid_dim, \n",
        "                                                                     pf_dim, \n",
        "                                                                     dropout)\n",
        "        self.dropout = nn.Dropout(dropout)\n",
        "        \n",
        "    def forward(self, trg, enc_src, trg_mask, src_mask):\n",
        "        #trg = [batch size, trg len, hid dim]\n",
        "        #enc_src = [batch size, src len, hid dim]\n",
        "        #trg_mask = [batch size, trg len, trg len]\n",
        "        #src_mask = [batch size, src len]\n",
        "        #1.1) self attention\n",
        "        tmp, _ = self.self_attention(trg, trg, trg, attn_mask=trg_mask)\n",
        "        #1.2) residual connection and layer norm (ADD & NORM)\n",
        "        trg = self.self_attn_layer_norm(trg + tmp)\n",
        "        #trg = [batch size, trg len, hid dim]\n",
        "            \n",
        "        #2) encoder attention\n",
        "        tmp, attention = self.encoder_attention(trg, enc_src, enc_src, src_mask)\n",
        "        #2.1) residual and layer norm (ADD & NORM)\n",
        "        trg = self.enc_attn_layer_norm(trg + tmp) \n",
        "        #trg = [batch size, trg len, hid dim]\n",
        "        \n",
        "        #3) positionwise feedforward\n",
        "        tmp = self.positionwise_feedforward(trg)\n",
        "        #3.1) residual and layer norm (ADD & NORM)\n",
        "        trg = self.ff_layer_norm(trg + tmp)\n",
        "\n",
        "        #trg = [batch size, trg len, hid dim]\n",
        "        #attention = [batch size, n heads, trg len, src len]\n",
        "        return trg, attention"
      ]
    },
    {
      "cell_type": "code",
      "execution_count": 14,
      "metadata": {
        "id": "wKXxEXwFtMPP"
      },
      "outputs": [],
      "source": [
        "class Decoder(nn.Module):\n",
        "    def __init__(self, \n",
        "                 output_dim, \n",
        "                 hid_dim, \n",
        "                 n_layers, \n",
        "                 n_heads, \n",
        "                 pf_dim, \n",
        "                 dropout, \n",
        "                 device,\n",
        "                 max_length = 200):\n",
        "        super().__init__()\n",
        "        \n",
        "        self.n_heads = n_heads\n",
        "        self.device = device\n",
        "        self.scale = torch.sqrt(torch.FloatTensor([hid_dim])).to(device)\n",
        "\n",
        "        self.dropout = nn.Dropout(dropout)   \n",
        "        \n",
        "        self.tok_embedding = nn.Embedding(output_dim, hid_dim)\n",
        "        self.pos_embedding = nn.Embedding(max_length, hid_dim)\n",
        "        \n",
        "        self.layers = nn.ModuleList([DecoderLayer(hid_dim, \n",
        "                                                  n_heads, \n",
        "                                                  pf_dim, \n",
        "                                                  dropout, \n",
        "                                                  device)\n",
        "                                     for _ in range(n_layers)])\n",
        "        \n",
        "        self.fc_out = nn.Linear(hid_dim, output_dim)\n",
        "\n",
        "    def forward(self, trg, enc_src, trg_mask, src_mask):\n",
        "        #trg = [batch size, trg len]\n",
        "        #enc_src = [batch size, src len, hid dim]\n",
        "        #trg_mask = [batch size, 1, trg len, trg len]\n",
        "        #src_mask = [batch size, 1, 1, src len]\n",
        "        batch_size = trg.shape[0]\n",
        "        trg_len = trg.shape[1]\n",
        "        #print(\"DF \", trg.shape)\n",
        "            \n",
        "        #positional encoding\n",
        "        pos = torch.arange(0, trg_len).unsqueeze(0)\n",
        "        #dublicate for entire batch\n",
        "        pos = pos.repeat(batch_size, 1).to(self.device)                            \n",
        "        #pos = [batch size, trg len]\n",
        "        trg = (self.tok_embedding(trg) * self.scale) + self.pos_embedding(pos)\n",
        "        trg = self.dropout(trg)\n",
        "        #trg = [batch size, trg len, hid dim]\n",
        "        \n",
        "        for layer in self.layers:\n",
        "            trg, attention = layer(trg, enc_src, trg_mask, src_mask)\n",
        "        \n",
        "        #trg = [batch size, trg len, hid dim]\n",
        "        #attention = [batch size, n heads, trg len, src len]\n",
        "        output = self.fc_out(trg)\n",
        "        #output = [batch size, trg len, output dim]   \n",
        "        #print(output)\n",
        "        return output, attention"
      ]
    },
    {
      "cell_type": "markdown",
      "metadata": {
        "id": "h5PkoeLJnyd9"
      },
      "source": [
        "## Seq2Seq"
      ]
    },
    {
      "cell_type": "code",
      "execution_count": 15,
      "metadata": {
        "id": "2SqSYfqXcx76"
      },
      "outputs": [],
      "source": [
        "class Seq2Seq(nn.Module):\n",
        "    def __init__(self, \n",
        "                 encoder, \n",
        "                 decoder, \n",
        "                 src_pad_idx, \n",
        "                 trg_pad_idx, \n",
        "                 device):\n",
        "        super().__init__()\n",
        "        \n",
        "        self.encoder = encoder\n",
        "        self.decoder = decoder\n",
        "        self.src_pad_idx = src_pad_idx\n",
        "        self.trg_pad_idx = trg_pad_idx\n",
        "        self.device = device\n",
        "\n",
        "    def make_src_mask(self, src):\n",
        "        #src = [batch size, src len]\n",
        "        src_mask = (src == self.src_pad_idx)\n",
        "        #src_mask = [batch size, src len]\n",
        "        return src_mask\n",
        "    \n",
        "    def make_trg_mask(self, trg):\n",
        "        #trg = [batch size, trg len]\n",
        "        #print(\"trg\", trg.shape)\n",
        "        trg_pad_mask = (trg == self.trg_pad_idx).unsqueeze(1)\n",
        "        #trg_pad_mask = [batch size, 1, trg len]\n",
        "        #dublicate for each head\n",
        "        trg_pad_mask = trg_pad_mask.repeat(self.decoder.n_heads, 1, 1)\n",
        "\n",
        "        trg_len = trg.shape[1]\n",
        "        #lower triangular part of the matrix\n",
        "        trg_sub_mask = ~torch.tril(torch.ones((trg_len, trg_len), device = self.device)).bool()\n",
        "        #print(trg_pad_mask.shape, trg_sub_mask.shape)\n",
        "        #trg_sub_mask = [trg len, trg len]\n",
        "        #print(\"trg_sub_mask\", trg_sub_mask.shape, trg_sub_mask)\n",
        "        #print(\"trg_pad_mask\", trg_pad_mask.shape, trg_pad_mask)\n",
        "        trg_mask = trg_pad_mask | trg_sub_mask\n",
        "        #print(\"trg_mask\", trg_mask.shape, trg_mask)\n",
        "        #trg_mask = [batch size, trg len, trg len]\n",
        "        return trg_mask\n",
        "\n",
        "    def forward(self, src, trg):\n",
        "        #TODO: add teacher_forcing_ratio\n",
        "        #src = [batch size, src len]\n",
        "        #trg = [batch size, trg len]\n",
        "\n",
        "        src_mask = self.make_src_mask(src)\n",
        "        #src_mask = [batch size, src len]\n",
        "        enc_src = self.encoder(src, src_mask)\n",
        "        #enc_src = [batch size, src len, hid dim]\n",
        "        #print(enc_src)\n",
        "        \n",
        "        trg_mask = self.make_trg_mask(trg)\n",
        "        #trg_mask = [batch size, trg len, trg len]\n",
        "        output, _ = self.decoder(trg, enc_src, trg_mask, src_mask)\n",
        "        \n",
        "        #print(output)\n",
        "        #output = [batch size, trg len, output dim]\n",
        "        return output"
      ]
    },
    {
      "cell_type": "markdown",
      "metadata": {
        "id": "yRyRscp9bGY8"
      },
      "source": [
        "## Train model"
      ]
    },
    {
      "cell_type": "code",
      "execution_count": 16,
      "metadata": {
        "id": "PEflUSPeqNG6"
      },
      "outputs": [],
      "source": [
        "device = torch.device(\"cuda:0\" if torch.cuda.is_available() else \"cpu\")\n",
        "INPUT_DIM = len(src_vocab)\n",
        "OUTPUT_DIM = len(trg_vocab)\n",
        "HID_DIM = 64\n",
        "ENC_LAYERS = 3\n",
        "DEC_LAYERS = 3\n",
        "ENC_HEADS = 4\n",
        "DEC_HEADS = 4\n",
        "ENC_PF_DIM = 512\n",
        "DEC_PF_DIM = 512\n",
        "ENC_DROPOUT = 0.5\n",
        "DEC_DROPOUT = 0.5\n",
        "\n",
        "enc = Encoder(INPUT_DIM, \n",
        "              HID_DIM, \n",
        "              ENC_LAYERS, \n",
        "              ENC_HEADS, \n",
        "              ENC_PF_DIM, \n",
        "              ENC_DROPOUT, \n",
        "              device)\n",
        "\n",
        "dec = Decoder(OUTPUT_DIM, \n",
        "              HID_DIM, \n",
        "              DEC_LAYERS, \n",
        "              DEC_HEADS, \n",
        "              DEC_PF_DIM, \n",
        "              DEC_DROPOUT, \n",
        "              device)"
      ]
    },
    {
      "cell_type": "code",
      "execution_count": 17,
      "metadata": {
        "id": "a4p75eBQqjPr"
      },
      "outputs": [],
      "source": [
        "SRC_PAD_IDX = src_vocab[pad_token]\n",
        "TRG_PAD_IDX = trg_vocab[pad_token]\n",
        "\n",
        "model = Seq2Seq(enc, dec, SRC_PAD_IDX, TRG_PAD_IDX, device).to(device)"
      ]
    },
    {
      "cell_type": "code",
      "execution_count": 18,
      "metadata": {
        "id": "4_-hFxcyPsAf"
      },
      "outputs": [],
      "source": [
        "def init_weights(m):\n",
        "    for name, param in m.named_parameters():\n",
        "        nn.init.uniform_(param, -0.08, 0.08)\n",
        "\n",
        "model.apply(init_weights);"
      ]
    },
    {
      "cell_type": "code",
      "execution_count": 19,
      "metadata": {
        "colab": {
          "base_uri": "https://localhost:8080/"
        },
        "id": "15zD2R7cPsAg",
        "outputId": "f3d6b4cd-a556-4f41-f567-1e7d9c3af6cb"
      },
      "outputs": [
        {
          "name": "stdout",
          "output_type": "stream",
          "text": [
            "The model has 2,204,446 trainable parameters\n"
          ]
        }
      ],
      "source": [
        "def count_parameters(model):\n",
        "    return sum(p.numel() for p in model.parameters() if p.requires_grad)\n",
        "\n",
        "\n",
        "print(f\"The model has {count_parameters(model):,} trainable parameters\")"
      ]
    },
    {
      "cell_type": "code",
      "execution_count": 20,
      "metadata": {
        "id": "cG45OrPDPsAg"
      },
      "outputs": [],
      "source": [
        "optimizer = torch.optim.Adam(model.parameters())\n",
        "criterion = nn.CrossEntropyLoss(ignore_index=trg_vocab[pad_token])\n",
        "loss_history, train_loss_history, val_loss_history = [], [], []"
      ]
    },
    {
      "cell_type": "code",
      "execution_count": 21,
      "metadata": {
        "id": "Z6WIRae7ZX02"
      },
      "outputs": [],
      "source": [
        "#torch.autograd.set_detect_anomaly(True)"
      ]
    },
    {
      "cell_type": "code",
      "execution_count": 22,
      "metadata": {
        "colab": {
          "base_uri": "https://localhost:8080/",
          "height": 334
        },
        "id": "sFsx5PcCudiG",
        "outputId": "7fea7587-dceb-42e8-d367-2a74e40698ab"
      },
      "outputs": [
        {
          "data": {
            "image/png": "[encoded data removed]",
            "text/plain": [
              "<Figure size 1080x360 with 2 Axes>"
            ]
          },
          "metadata": {
            "needs_background": "light"
          },
          "output_type": "display_data"
        }
      ],
      "source": [
        "import matplotlib.pyplot as plt\n",
        "from IPython.display import clear_output\n",
        "from torch.nn.utils import clip_grad_norm_\n",
        "\n",
        "\n",
        "# Please don't use tensorboard here.\n",
        "# It doesn't save the training plots in the notebook.\n",
        "n_epochs = 60\n",
        "clip = 1\n",
        "for epoch in range(n_epochs):\n",
        "    model.train()\n",
        "    train_loss = 0\n",
        "    for src, trg in train_dataloader:\n",
        "        src, trg = src.to(device).T, trg.to(device).T\n",
        "        #print(\"1)\", src[-1], trg[-1])\n",
        "        #src = [batch size, src len] \n",
        "        #trg = [batch size, trg len])\n",
        "        output = model(src, trg[:,:-1])\n",
        "        #print(output)\n",
        "        #print(output.shape, trg.shape)\n",
        "        #output = [batch size, trg len - 1, output dim]\n",
        "        #trg = [batch size, trg len]\n",
        "        #torch.Size([55, 256, 9310]) torch.Size([56, 256])\n",
        "\n",
        "        output = output.view(-1, output.shape[-1])\n",
        "        #trg = trg[1:].view(-1)\n",
        "        trg = trg[:,1:].contiguous().view(-1)\n",
        "\n",
        "        #1) torch.Size([49, 256]) torch.Size([48, 256])\n",
        "        #2) torch.Size([12032, 9310]) torch.Size([12032])\n",
        "\n",
        "        #1) torch.Size([64, 54]) torch.Size([64, 46])\n",
        "        #2) torch.Size([2880, 9310]) torch.Size([2880])\n",
        "        #print(\"2)\", output.shape, trg.shape)\n",
        "        #output = [batch size * trg len - 1, output dim]\n",
        "        #trg = [batch size * trg len - 1]\n",
        "        loss = criterion(output, trg)\n",
        "        optimizer.zero_grad()\n",
        "        loss.backward()\n",
        "        clip_grad_norm_(model.parameters(), clip)\n",
        "        optimizer.step()\n",
        "\n",
        "        train_loss += loss.item()\n",
        "        loss_history.append(loss.item())\n",
        "\n",
        "        if len(loss_history) % 10 == 0:\n",
        "            clear_output(wait=True)\n",
        "\n",
        "            plt.figure(figsize=(15, 5))\n",
        "\n",
        "            plt.subplot(121)\n",
        "            plt.plot(loss_history)\n",
        "            plt.xlabel(\"step\")\n",
        "\n",
        "            plt.subplot(122)\n",
        "            plt.plot(train_loss_history, label=\"train loss\")\n",
        "            plt.plot(val_loss_history, label=\"val loss\")\n",
        "            plt.xlabel(\"epoch\")\n",
        "            plt.legend()\n",
        "\n",
        "            plt.show()\n",
        "\n",
        "    train_loss /= len(train_dataloader)\n",
        "    train_loss_history.append(train_loss)\n",
        "\n",
        "    model.eval()\n",
        "    val_loss = 0\n",
        "    with torch.no_grad():\n",
        "        for src, trg in val_dataloader:\n",
        "            src, trg = src.to(device).T, trg.to(device).T\n",
        "            output = model(src, trg[:,:-1])\n",
        "\n",
        "            output = output.view(-1, output.shape[-1])\n",
        "            #trg = trg[1:].view(-1)\n",
        "            trg = trg[:,1:].contiguous().view(-1)\n",
        "\n",
        "            loss = criterion(output, trg)\n",
        "\n",
        "            val_loss += loss.item()\n",
        "\n",
        "    val_loss /= len(val_dataloader)\n",
        "    val_loss_history.append(val_loss)"
      ]
    },
    {
      "cell_type": "markdown",
      "metadata": {
        "id": "Cp3-T3dDPsAg"
      },
      "source": [
        "## Model evaluation"
      ]
    },
    {
      "cell_type": "code",
      "execution_count": 23,
      "metadata": {
        "colab": {
          "base_uri": "https://localhost:8080/"
        },
        "id": "JtYccOGpPsAh",
        "outputId": "55200dad-1d36-4cee-ab42-e50c15e14fe0"
      },
      "outputs": [
        {
          "name": "stdout",
          "output_type": "stream",
          "text": [
            "All apartments have a DVD player and satellite TV, a kitchen with a microwave, and a washing machine and a tumble dryer. Все они оснащены телевизором со спутниковыми каналами и DVD-плеером, а также располагают кухней с микроволновой печью и стиральной/сушильной машиной.\n",
            "enc tensor([[[ 1.7967e-02, -1.7519e-03, -7.1749e-02,  ...,  1.3178e-02,\n",
            "          -5.2171e-02, -1.7046e-03],\n",
            "         [ 1.6175e-02, -2.7664e-04, -1.0691e-01,  ..., -7.9947e-02,\n",
            "          -2.3766e-02,  1.4827e-02],\n",
            "         [ 2.9226e-03, -7.2348e-04, -8.2792e-02,  ..., -6.0948e-02,\n",
            "          -8.0127e-03,  1.1452e-02],\n",
            "         ...,\n",
            "         [ 1.9976e-02, -2.3646e-04,  4.3960e-03,  ...,  3.1233e-02,\n",
            "          -1.8332e-02,  1.5985e-02],\n",
            "         [ 3.1385e-02, -1.7335e-03,  6.5625e-02,  ...,  4.9980e-02,\n",
            "          -6.5720e-02,  5.4900e-05],\n",
            "         [ 1.2878e-02, -2.9414e-03, -4.5319e-03,  ...,  1.2213e-01,\n",
            "          -6.2682e-02, -1.5354e-02]]], device='cuda:0')\n",
            "src: 'all apartments have a dvd player and satellite tv, a kitchen with a microwave, and a washing machine and a tumble dryer.'\n",
            "trg: 'все они оснащены телевизором со спутниковыми каналами и dvd-плеером, а также располагают кухней с микроволновой печью и стиральной/сушильной машиной.'\n",
            "pred: 'в числе удобств стиральная машина , сушилка для хранения лыж и телевизор с плоским экраном .'\n",
            "\n",
            "They are fitted with blackout curtains, free drinking water and free toiletries. Гостям предоставляется бесплатная питьевая вода и бесплатные туалетно-косметическими принадлежности.\n",
            "enc tensor([[[-3.9609e-03,  2.6515e-03, -2.0600e-02,  ..., -4.9184e-02,\n",
            "          -8.3042e-02, -2.0918e-02],\n",
            "         [-5.2305e-03,  3.1447e-03, -5.4809e-02,  ..., -7.5972e-02,\n",
            "          -8.6664e-02, -1.1818e-02],\n",
            "         [-8.8090e-03,  2.1510e-03,  2.2008e-02,  ..., -9.4814e-02,\n",
            "          -9.5032e-02, -2.5814e-02],\n",
            "         ...,\n",
            "         [ 6.5242e-04,  2.3615e-03, -2.7057e-02,  ..., -7.7147e-03,\n",
            "          -9.0987e-02, -2.6398e-02],\n",
            "         [ 1.4598e-03,  2.5269e-03, -3.5624e-02,  ..., -5.2780e-02,\n",
            "          -8.0487e-02, -2.3948e-02],\n",
            "         [-5.7230e-05,  2.1253e-03, -4.1283e-02,  ..., -3.5930e-03,\n",
            "          -7.3296e-02, -2.7098e-02]]], device='cuda:0')\n",
            "src: 'they are fitted with blackout curtains, free drinking water and free toiletries.'\n",
            "trg: 'гостям предоставляется бесплатная питьевая вода и бесплатные туалетно-косметическими принадлежности.'\n",
            "pred: 'в числе прочих удобств бесплатные туалетно - косметические принадлежности и <unk> .'\n",
            "\n",
            "A small refrigerator, coffee-making facilities and a work desk are included. К услугам гостей также небольшой холодильник, принадлежности для кофе и рабочий стол.\n",
            "enc tensor([[[-1.8860e-02,  8.9491e-04,  4.5721e-02,  ..., -1.5567e-02,\n",
            "          -4.3753e-02, -5.0099e-02],\n",
            "         [-2.1290e-02,  2.7679e-03,  5.3620e-02,  ..., -6.9602e-02,\n",
            "          -1.8163e-02, -3.5773e-02],\n",
            "         [-1.8436e-02,  3.1000e-03,  1.1779e-01,  ..., -5.0357e-02,\n",
            "          -2.5440e-02, -3.5985e-02],\n",
            "         ...,\n",
            "         [-3.1494e-02,  4.9422e-04,  4.4794e-03,  ...,  1.7153e-02,\n",
            "          -2.9232e-02, -2.7120e-02],\n",
            "         [-1.9049e-02,  3.2660e-05,  5.0572e-02,  ...,  3.0862e-02,\n",
            "          -5.0588e-02, -5.4487e-02],\n",
            "         [-2.0812e-02, -1.7769e-04,  1.6983e-02,  ...,  2.7368e-02,\n",
            "          -5.4477e-02, -5.6551e-02]]], device='cuda:0')\n",
            "src: 'a small refrigerator, coffee-making facilities and a work desk are included.'\n",
            "trg: 'к услугам гостей также небольшой холодильник, принадлежности для кофе и рабочий стол.'\n",
            "pred: 'в числе прочих удобств письменный стол , письменный стол и холодильник .'\n",
            "\n",
            "Only 250 metres away, Paral•lel Metro Station offers direct links to Plaça Catalunya and Montjuïc Hill. Всего в 250 метрах расположена станция метро Paral•lel, откуда можно без пересадок добраться до площади Каталонии и горы Монжуик.\n",
            "enc tensor([[[ 0.0027, -0.0004, -0.0595,  ..., -0.0202, -0.0392,  0.0111],\n",
            "         [ 0.0019,  0.0004, -0.1307,  ..., -0.0441, -0.0322,  0.0115],\n",
            "         [-0.0033,  0.0007, -0.0975,  ..., -0.1092, -0.0396, -0.0030],\n",
            "         ...,\n",
            "         [ 0.0067, -0.0010,  0.2385,  ...,  0.0683, -0.0894,  0.0161],\n",
            "         [ 0.0022, -0.0012,  0.0294,  ...,  0.0913, -0.0506,  0.0188],\n",
            "         [ 0.0041, -0.0010, -0.0155,  ...,  0.0349, -0.0599, -0.0051]]],\n",
            "       device='cuda:0')\n",
            "src: 'only 250 metres away, paral•lel metro station offers direct links to plaça catalunya and montjuïc hill.'\n",
            "trg: 'всего в 250 метрах расположена станция метро paral•lel, откуда можно без пересадок добраться до площади каталонии и горы монжуик.'\n",
            "pred: 'станция метро <unk> находится в 250 метрах от отеля <unk> <unk> <unk> и всего в 250 метрах от станции метро <unk> .'\n",
            "\n",
            "The apartment will provide you with a satellite TV and air conditioning.There is a full a kitchen with a dishwasher and a refrigerator. Апартаменты оснащены кондиционером и спутниковым телевидением. Полноценная кухня оборудована посудомоечной машиной и холодильником.\n",
            "enc tensor([[[-0.0097,  0.0007,  0.0057,  ...,  0.0674, -0.0090,  0.0391],\n",
            "         [-0.0176,  0.0022, -0.0934,  ...,  0.0183,  0.0057,  0.0735],\n",
            "         [-0.0255,  0.0011,  0.0614,  ..., -0.0171,  0.0436,  0.0711],\n",
            "         ...,\n",
            "         [-0.0084,  0.0016,  0.0638,  ...,  0.0857,  0.0089,  0.0486],\n",
            "         [-0.0025, -0.0009,  0.0760,  ...,  0.1224, -0.0212,  0.0272],\n",
            "         [-0.0045, -0.0021,  0.1051,  ...,  0.1420, -0.0185,  0.0157]]],\n",
            "       device='cuda:0')\n",
            "src: 'the apartment will provide you with a satellite tv and air conditioning.there is a full a kitchen with a dishwasher and a refrigerator.'\n",
            "trg: 'апартаменты оснащены кондиционером и спутниковым телевидением. полноценная кухня оборудована посудомоечной машиной и холодильником.'\n",
            "pred: 'в числе удобств полностью оборудованная кухня с посудомоечной машиной и телевизором со спутниковыми каналами .'\n",
            "\n",
            "Cooked breakfast is served each morning at Monk Coniston, with a buffet selection including cereals, fresh fruit, yoghurts, croissants and pastries. There is also porridge, toast, juice, tea and coffee. Каждое утро в загородном доме Monk Coniston сервируют полный английский завтрак и завтрак «шведский стол» с зерновыми хлопьями, свежими фруктами, йогуртами, круассанами и выпечкой, а также овсянкой, тостами, соком, чаем и кофе.\n",
            "enc tensor([[[ 0.0423,  0.0034,  0.0655,  ..., -0.0734, -0.0355, -0.0354],\n",
            "         [ 0.0385,  0.0039,  0.0384,  ..., -0.1309, -0.0275, -0.0294],\n",
            "         [ 0.0430,  0.0035,  0.0927,  ..., -0.1185, -0.0351, -0.0336],\n",
            "         ...,\n",
            "         [ 0.0458,  0.0035,  0.1328,  ..., -0.0395, -0.0251, -0.0253],\n",
            "         [ 0.0416,  0.0031,  0.0682,  ..., -0.1340, -0.0071, -0.0337],\n",
            "         [ 0.0393,  0.0029,  0.1221,  ..., -0.0344, -0.0547, -0.0339]]],\n",
            "       device='cuda:0')\n",
            "src: 'cooked breakfast is served each morning at monk coniston, with a buffet selection including cereals, fresh fruit, yoghurts, croissants and pastries. there is also porridge, toast, juice, tea and coffee.'\n",
            "trg: 'каждое утро в загородном доме monk coniston сервируют полный английский завтрак и завтрак «шведский стол» с зерновыми хлопьями, свежими фруктами, йогуртами, круассанами и выпечкой, а также овсянкой, тостами, соком, чаем и кофе.'\n",
            "pred: 'в зале для завтрака , <unk> сервируется завтрак « шведский стол » с выпечкой , выпечкой , выпечкой , выпечкой и выпечкой .'\n",
            "\n",
            "The hotel’s position on the Rua de Santa Catarina shopping street offers convenient access to boutiques, bars and eateries. Местоположение отеля на торговой улице Руа-де-Санта-Катарина позволит гостям с легкостью добраться до бутиков, баров и кафе.\n",
            "enc tensor([[[ 0.0220, -0.0015, -0.1761,  ...,  0.0591, -0.1235,  0.0085],\n",
            "         [ 0.0179, -0.0008, -0.2137,  ...,  0.0404, -0.1159,  0.0186],\n",
            "         [ 0.0178, -0.0005, -0.1578,  ...,  0.0378, -0.0797,  0.0157],\n",
            "         ...,\n",
            "         [ 0.0202, -0.0023, -0.0952,  ...,  0.0154, -0.1224,  0.0052],\n",
            "         [ 0.0277, -0.0025, -0.1494,  ...,  0.0638, -0.1484,  0.0010],\n",
            "         [ 0.0255, -0.0027, -0.1420,  ...,  0.0718, -0.1379, -0.0008]]],\n",
            "       device='cuda:0')\n",
            "src: 'the hotel’s position on the rua de santa catarina shopping street offers convenient access to boutiques, bars and eateries.'\n",
            "trg: 'местоположение отеля на торговой улице руа-де-санта-катарина позволит гостям с легкостью добраться до бутиков, баров и кафе.'\n",
            "pred: 'в близлежащем районе <unk> можно посетить кафе , бары и рестораны .'\n",
            "\n",
            "It also has a tranquil garden terrace. На тихой террасе разбит сад.\n",
            "enc tensor([[[ 4.4308e-03, -1.8890e-03, -1.1147e-02, -3.2549e-03, -1.5372e-02,\n",
            "          -9.1904e-03, -1.8676e-03,  4.4061e-02, -3.3544e-04,  4.1955e-02,\n",
            "           1.6256e-01,  2.6055e-02, -5.2840e-03, -1.8905e-02, -1.4950e-02,\n",
            "           6.7146e-02, -1.3783e-02,  3.3884e-03, -1.9179e-02,  1.3086e-03,\n",
            "          -1.8042e-02, -3.3895e-02,  5.3107e-03,  1.0156e-01,  2.3007e-01,\n",
            "          -1.6185e-02, -1.0347e-01, -1.9202e-02,  3.9388e-01,  4.3956e-02,\n",
            "           2.8409e-03,  2.3927e-02, -1.0808e-02, -1.6629e-02, -1.7502e-02,\n",
            "          -8.9684e-02, -7.6975e-02,  4.3605e-02,  5.8243e-03, -1.6766e-02,\n",
            "          -2.4007e-03,  1.0995e-02, -3.8601e-02, -1.3992e-02, -4.9181e-02,\n",
            "           3.4606e-02,  1.1726e-01,  3.7512e-02,  2.7712e-02, -2.3238e-01,\n",
            "           3.9397e-03,  9.1533e-02, -9.7230e-02,  7.7783e-03, -3.2596e-02,\n",
            "          -4.0345e-02, -4.0487e-02, -7.8636e-02, -7.8512e-03,  1.6394e-03,\n",
            "          -2.6688e-02, -4.6889e-02,  9.1289e-02, -1.6307e-02],\n",
            "         [ 4.0449e-03, -1.6239e-03, -4.1956e-02, -1.6681e-03, -1.9961e-02,\n",
            "          -8.7230e-03, -1.4243e-03,  4.9553e-02,  7.8214e-06,  1.9646e-02,\n",
            "           1.4882e-01,  2.6247e-02, -6.2699e-03,  7.2181e-03, -1.5832e-02,\n",
            "           6.0656e-02, -1.0558e-02,  2.7502e-03, -3.0136e-02,  1.1639e-03,\n",
            "          -1.9007e-02, -3.4004e-02,  5.8792e-03,  1.0205e-01,  2.0523e-01,\n",
            "          -1.6798e-02, -1.0249e-01, -1.8082e-02,  4.2911e-01,  5.4033e-02,\n",
            "           1.5351e-03,  2.5122e-02, -9.8754e-03, -1.4956e-02, -1.7282e-02,\n",
            "          -7.4514e-02, -1.9046e-02,  4.2228e-02,  6.4934e-03, -1.7279e-02,\n",
            "          -3.1577e-03,  3.7663e-03, -4.1945e-02, -1.5801e-02, -2.9508e-02,\n",
            "           3.5262e-02,  1.1280e-01,  1.8440e-03,  2.7717e-02, -1.9779e-01,\n",
            "           3.9322e-03,  6.9204e-02, -7.9137e-02,  1.1497e-02, -3.3540e-02,\n",
            "          -5.1745e-02, -4.1045e-02, -9.0804e-02, -8.6150e-03, -1.7283e-03,\n",
            "          -3.8092e-02, -7.6025e-02,  9.6697e-02, -1.2138e-02],\n",
            "         [ 1.3830e-02, -2.0294e-03,  2.3772e-02, -7.2877e-03, -1.8594e-02,\n",
            "          -1.0918e-02, -9.7812e-03,  6.9350e-02, -6.7383e-04, -3.9988e-02,\n",
            "           1.3964e-01,  2.9043e-02, -3.2212e-03, -5.4823e-02, -1.3870e-02,\n",
            "           7.1848e-02, -1.3742e-02,  1.8912e-03, -3.4032e-02,  1.9371e-03,\n",
            "          -1.9677e-02, -4.0487e-02,  6.4936e-03,  5.3572e-02,  1.7522e-01,\n",
            "          -3.7516e-02, -1.0816e-01, -2.3653e-02,  3.3781e-01,  2.5356e-02,\n",
            "           5.2152e-03,  1.7687e-02, -8.8384e-03, -2.2480e-02, -2.1079e-02,\n",
            "          -1.3501e-01, -2.0365e-01,  4.9887e-02,  4.2515e-03, -2.0253e-02,\n",
            "           7.7821e-03,  1.9023e-02, -4.2567e-02, -1.1908e-02,  2.9742e-02,\n",
            "           3.5823e-02,  2.1214e-01,  7.1306e-02,  3.2458e-02, -3.4121e-01,\n",
            "           4.9892e-03,  1.1557e-01, -1.0484e-01, -5.7682e-02, -3.6668e-02,\n",
            "           8.8333e-02, -3.5988e-02, -1.3938e-01, -7.0189e-03,  5.7617e-03,\n",
            "          -5.6758e-02, -3.2733e-02,  1.1810e-01,  2.0113e-03],\n",
            "         [ 2.5963e-03, -1.4487e-03,  1.0673e-01, -1.4757e-03, -1.8567e-02,\n",
            "          -1.8369e-03, -6.0080e-03,  7.2164e-02, -5.0584e-03,  9.9384e-03,\n",
            "           2.6029e-01,  3.7395e-02, -1.0091e-02, -2.3763e-02, -2.1683e-02,\n",
            "           5.8417e-02, -1.1857e-02,  1.3219e-03, -2.4167e-02,  2.2809e-03,\n",
            "          -2.7418e-02, -4.1944e-02,  1.2797e-02,  1.0635e-01,  2.0311e-01,\n",
            "          -4.0603e-02, -1.2474e-01, -1.7908e-02,  3.6737e-01,  3.7005e-02,\n",
            "          -1.2876e-03,  1.8912e-02, -1.4655e-02, -1.1397e-02, -2.2486e-02,\n",
            "          -1.9563e-01, -2.0017e-01,  5.0889e-02,  7.9985e-03, -2.0739e-02,\n",
            "           1.4586e-02,  1.6184e-02, -5.6694e-02, -2.1428e-02,  4.6065e-02,\n",
            "           5.6358e-02,  5.4411e-02,  1.3882e-01,  1.9845e-02, -2.7282e-01,\n",
            "           5.0407e-03,  1.2463e-01, -1.0786e-01, -4.7472e-02, -3.1020e-02,\n",
            "           1.3702e-02, -3.1494e-02, -1.3610e-01, -1.2120e-02,  2.4342e-03,\n",
            "          -7.9521e-02, -5.6969e-02,  1.1634e-01, -1.5033e-03],\n",
            "         [ 2.8767e-04, -6.7541e-04,  6.3110e-02,  4.0082e-03, -1.5137e-02,\n",
            "           5.6523e-03, -7.1011e-03,  9.1458e-02, -1.2272e-02,  2.9793e-02,\n",
            "          -1.2234e-01,  3.8381e-02, -1.2381e-02,  1.3928e-01, -3.7472e-02,\n",
            "           2.5387e-01, -2.0155e-02,  1.3737e-02, -6.3203e-02,  3.1659e-03,\n",
            "          -3.8231e-02, -4.9960e-02,  9.9626e-03,  1.7338e-01,  4.5569e-01,\n",
            "          -4.6213e-02, -1.0515e-01, -1.1488e-02,  2.9830e-01,  4.6520e-02,\n",
            "          -1.0054e-02,  2.8697e-02, -1.7198e-02, -1.8443e-02, -2.1672e-02,\n",
            "          -2.4096e-01, -1.0703e-01,  4.6657e-02,  1.2662e-02, -1.7993e-02,\n",
            "          -6.5267e-03, -3.4912e-02, -7.0412e-02, -3.1644e-02,  1.7411e-01,\n",
            "           5.6154e-02, -1.7082e-01,  6.2722e-03,  1.3227e-02,  8.7619e-02,\n",
            "           4.3060e-03,  2.8741e-01, -1.0445e-01, -4.5336e-02, -4.0383e-02,\n",
            "          -5.6228e-02, -3.5698e-02, -5.3074e-02, -1.7123e-02, -4.0808e-03,\n",
            "          -3.5589e-02, -6.0165e-02,  1.5208e-01,  1.0283e-02],\n",
            "         [ 6.0913e-03, -1.8833e-03, -2.4447e-03, -2.6446e-03, -1.9232e-02,\n",
            "          -9.3140e-03, -3.1664e-03,  6.5603e-02,  1.2650e-04,  3.2704e-02,\n",
            "           1.0404e-01,  2.5566e-02, -5.8525e-03,  1.5499e-02, -1.5570e-02,\n",
            "           8.2792e-02, -1.5125e-02,  3.7010e-03, -2.6201e-02,  1.0400e-03,\n",
            "          -1.9271e-02, -3.6057e-02,  3.8521e-03,  1.2584e-01,  2.2512e-01,\n",
            "          -1.9250e-02, -1.2114e-01, -1.9167e-02,  4.2353e-01,  3.8565e-02,\n",
            "           1.8587e-03,  2.4595e-02, -9.6785e-03, -1.7612e-02, -1.8400e-02,\n",
            "          -1.2795e-01, -7.2524e-02,  4.3616e-02,  6.1667e-03, -1.7636e-02,\n",
            "           2.3663e-03,  9.1853e-03, -4.2706e-02, -1.5414e-02,  6.3649e-03,\n",
            "           3.5743e-02,  1.1653e-01,  4.8316e-02,  2.8315e-02, -2.2253e-01,\n",
            "           3.7951e-03,  1.0103e-01, -8.5725e-02, -8.4544e-03, -3.4986e-02,\n",
            "          -5.5602e-02, -3.9838e-02, -8.3487e-02, -8.5058e-03,  1.7209e-03,\n",
            "          -4.6875e-02, -4.3977e-02,  1.0418e-01, -8.8955e-03],\n",
            "         [ 6.9885e-03, -1.2386e-03, -1.4835e-02, -3.1655e-03, -1.6669e-02,\n",
            "          -1.1014e-02, -5.1253e-03,  6.6656e-02,  2.3797e-03,  2.8918e-02,\n",
            "           5.3449e-02,  2.2375e-02, -4.4054e-03,  6.9614e-02, -1.5410e-02,\n",
            "           1.3023e-01, -1.8842e-02,  4.8594e-03, -4.2062e-02,  7.7771e-04,\n",
            "          -1.8522e-02, -3.5696e-02, -1.8914e-03,  1.6233e-01,  1.9406e-01,\n",
            "          -8.2611e-03, -1.2203e-01, -1.9546e-02,  4.3289e-01,  2.2206e-02,\n",
            "           1.9914e-03,  2.5615e-02, -8.1300e-03, -2.2789e-02, -1.6468e-02,\n",
            "          -1.1803e-01, -2.9697e-02,  4.4028e-02,  6.0559e-03, -1.7262e-02,\n",
            "           9.1451e-03,  7.5174e-03, -4.4007e-02, -1.5583e-02, -9.9498e-03,\n",
            "           3.3881e-02,  7.9173e-02,  3.2527e-02,  2.8725e-02, -1.4698e-01,\n",
            "           3.9481e-03,  1.3583e-01, -1.1317e-01,  2.7170e-05, -3.7697e-02,\n",
            "          -1.0255e-01, -4.1939e-02, -4.2857e-02, -7.6404e-03,  1.7050e-03,\n",
            "          -2.4649e-02, -4.8291e-02,  9.3520e-02, -9.2205e-03],\n",
            "         [ 2.4992e-03, -1.6107e-03, -5.6928e-02, -9.3139e-04, -1.9689e-02,\n",
            "          -8.5174e-03, -9.0899e-04,  4.6527e-02, -9.1909e-04,  6.5994e-02,\n",
            "           8.4847e-02,  2.5926e-02, -6.1869e-03, -3.6262e-04, -1.7004e-02,\n",
            "           8.1450e-02, -1.2870e-02,  4.7096e-03, -2.5748e-02,  6.1660e-04,\n",
            "          -1.9290e-02, -3.7259e-02,  2.2171e-03,  1.3501e-01,  2.3113e-01,\n",
            "           9.2204e-03, -9.6194e-02, -1.7772e-02,  4.1320e-01,  4.0655e-02,\n",
            "           1.3183e-03,  2.6703e-02, -8.9364e-03, -1.8134e-02, -1.7167e-02,\n",
            "          -1.2770e-01, -5.2213e-03,  4.1894e-02,  6.7104e-03, -1.5939e-02,\n",
            "          -1.3627e-03, -3.2384e-03, -4.3601e-02, -1.6312e-02, -4.4187e-02,\n",
            "           3.4357e-02,  7.0605e-02,  4.2014e-02,  2.7247e-02, -1.7628e-01,\n",
            "           3.6437e-03,  8.1004e-02, -8.2263e-02,  2.3860e-02, -3.4234e-02,\n",
            "          -6.3586e-02, -4.0728e-02, -7.4241e-02, -8.6374e-03, -1.8142e-03,\n",
            "          -4.4956e-02, -6.1366e-02,  1.0162e-01, -1.3881e-02],\n",
            "         [ 1.8617e-03, -1.6193e-03, -2.4737e-02, -2.7787e-03, -1.9230e-02,\n",
            "          -7.0681e-03, -1.5903e-04,  4.8046e-02, -1.4046e-03,  3.0458e-02,\n",
            "           1.3239e-01,  2.6343e-02, -7.7567e-03, -1.5818e-02, -1.9035e-02,\n",
            "           1.3948e-01, -2.1523e-02,  7.9637e-03, -3.5682e-02,  1.0970e-03,\n",
            "          -2.1572e-02, -3.6877e-02,  2.8235e-03,  1.3738e-01,  2.1596e-01,\n",
            "          -1.0306e-02, -9.3207e-02, -1.6036e-02,  3.8916e-01,  2.2978e-02,\n",
            "          -5.4586e-04,  2.7499e-02, -1.2096e-02, -1.8817e-02, -1.8061e-02,\n",
            "          -1.2119e-01, -1.9610e-02,  4.0983e-02,  7.5327e-03, -1.6545e-02,\n",
            "           1.3966e-02, -3.2369e-03, -4.3108e-02, -1.8607e-02, -5.3367e-02,\n",
            "           4.0983e-02,  1.0717e-01,  3.5872e-02,  2.3453e-02, -1.5511e-01,\n",
            "           3.2966e-03,  1.1314e-01, -1.3793e-01, -1.4888e-02, -3.3930e-02,\n",
            "          -9.0879e-02, -3.6566e-02, -2.2939e-02, -1.0537e-02, -4.3774e-03,\n",
            "          -3.1495e-02, -7.0681e-02,  1.0426e-01, -7.0041e-03],\n",
            "         [ 1.4124e-03, -1.8941e-03, -5.1612e-02, -1.1939e-03, -1.2701e-02,\n",
            "          -7.8180e-03,  5.3652e-04,  4.4626e-02, -1.1855e-03,  4.4061e-02,\n",
            "           1.6720e-01,  2.6398e-02, -6.4240e-03, -9.3705e-03, -1.6800e-02,\n",
            "           3.0528e-02, -1.6553e-02,  5.3041e-03, -2.5917e-02,  1.6736e-03,\n",
            "          -1.8778e-02, -3.2396e-02,  7.9830e-03,  9.3581e-02,  2.2846e-01,\n",
            "          -2.1126e-03, -9.8331e-02, -1.6939e-02,  3.8300e-01,  4.2060e-02,\n",
            "           1.5220e-03,  2.5849e-02, -1.1394e-02, -1.5569e-02, -1.7229e-02,\n",
            "          -7.1430e-02, -5.1235e-02,  4.1675e-02,  6.5530e-03, -1.5536e-02,\n",
            "          -2.7315e-03,  4.3445e-04, -3.9741e-02, -1.5625e-02, -8.3814e-02,\n",
            "           3.4300e-02,  9.5311e-02,  4.0558e-02,  2.5615e-02, -1.8824e-01,\n",
            "           3.7416e-03,  7.3660e-02, -9.7917e-02,  3.9916e-03, -3.0981e-02,\n",
            "          -5.6544e-02, -3.9791e-02, -8.1865e-02, -8.7631e-03, -5.0847e-04,\n",
            "          -3.3533e-02, -5.4159e-02,  9.5638e-02, -1.8794e-02]]],\n",
            "       device='cuda:0')\n",
            "src: 'it also has a tranquil garden terrace.'\n",
            "trg: 'на тихой террасе разбит сад.'\n",
            "pred: 'в распоряжении гостей сад с террасой .'\n",
            "\n",
            "Offering accommodation with air conditioning, Residenza Romana Zucchelli is set in Rome, 200 metres from Piazza Barberini. Piazza di Spagna is 400 metres from the property. Комплекс Residenza Romana Zucchelli расположен в Риме, в 200 метрах от площади Барберини и в 400 метрах от площади Испании.\n",
            "enc tensor([[[ 0.0045,  0.0034,  0.2581,  ...,  0.0358, -0.1041,  0.0066],\n",
            "         [ 0.0034,  0.0049,  0.0407,  ..., -0.0241, -0.0416,  0.0109],\n",
            "         [ 0.0053,  0.0050,  0.0019,  ..., -0.0161, -0.0290,  0.0149],\n",
            "         ...,\n",
            "         [ 0.0018,  0.0056,  0.2252,  ...,  0.0604, -0.1615,  0.0099],\n",
            "         [ 0.0037,  0.0063,  0.1700,  ...,  0.0409, -0.1842,  0.0057],\n",
            "         [ 0.0046,  0.0026,  0.2738,  ...,  0.0721, -0.1398,  0.0044]]],\n",
            "       device='cuda:0')\n",
            "src: 'offering accommodation with air conditioning, residenza romana zucchelli is set in rome, 200 metres from piazza barberini. piazza di spagna is 400 metres from the property.'\n",
            "trg: 'комплекс residenza romana zucchelli расположен в риме, в 200 метрах от площади барберини и в 400 метрах от площади испании.'\n",
            "pred: 'апартаменты la <unk> расположены в 200 метрах от площади пьяцца - навона . к услугам гостей кондиционер и кондиционером .'\n",
            "\n",
            "Parking is free on site. На территории предоставляется бесплатная парковка.\n",
            "enc tensor([[[ 3.7598e-02, -1.3231e-03, -1.1237e-01, -7.9069e-02, -2.9343e-02,\n",
            "           1.4686e-04,  6.5169e-03, -1.9292e-01,  2.7283e-02,  6.9429e-02,\n",
            "           2.2109e-01,  1.2826e-01, -7.8224e-02, -8.5249e-02, -4.7658e-02,\n",
            "           1.3676e-01, -3.0171e-02, -1.8522e-02, -1.8432e-01,  4.1616e-03,\n",
            "          -4.8027e-02, -3.6418e-02,  6.5365e-03, -7.9403e-02,  9.6869e-02,\n",
            "          -5.6242e-02,  5.6294e-02, -3.7105e-02,  2.4366e-01,  7.5385e-02,\n",
            "          -2.3782e-02, -6.6973e-02,  9.1663e-02, -3.8510e-02,  1.8420e-02,\n",
            "           2.5885e-01, -2.7359e-02,  5.7034e-02, -1.0321e-03, -4.1835e-02,\n",
            "          -8.9535e-02, -5.0269e-02,  6.5930e-03,  2.2632e-02,  4.5049e-03,\n",
            "           8.1323e-02,  8.7656e-02, -2.4159e-02,  6.3163e-02, -1.0259e-01,\n",
            "          -4.8887e-04,  1.7005e-01,  6.5231e-02,  2.6873e-01, -1.1568e-01,\n",
            "           4.5715e-02,  3.1305e-02, -8.8354e-02,  9.5248e-02,  8.4330e-02,\n",
            "           1.7475e-01, -6.6508e-02,  4.9581e-02,  6.3919e-02],\n",
            "         [ 3.4280e-02, -9.8817e-04, -1.2223e-01, -7.6721e-02, -2.8809e-02,\n",
            "           8.8943e-04,  8.5809e-03, -1.7259e-01,  2.6151e-02,  5.1473e-02,\n",
            "           1.9309e-01,  1.2307e-01, -7.7501e-02, -4.7369e-02, -4.6782e-02,\n",
            "           1.0605e-01, -2.7282e-02, -1.8201e-02, -1.7178e-01,  4.0632e-03,\n",
            "          -4.6638e-02, -3.4512e-02,  9.0189e-03, -5.4736e-02,  7.1886e-02,\n",
            "          -6.1694e-02,  4.5688e-02, -3.6771e-02,  2.9564e-01,  7.7251e-02,\n",
            "          -2.3000e-02, -6.6275e-02,  8.8752e-02, -3.5087e-02,  1.7097e-02,\n",
            "           2.5384e-01,  1.4649e-02,  5.7393e-02, -1.5816e-04, -4.1452e-02,\n",
            "          -9.2213e-02, -6.0189e-02,  4.1048e-03,  2.0852e-02,  4.7933e-03,\n",
            "           7.9227e-02,  9.7449e-02, -4.2330e-02,  6.1323e-02, -6.5582e-02,\n",
            "          -5.1288e-04,  1.3845e-01,  5.2126e-02,  2.4591e-01, -1.0739e-01,\n",
            "           1.9848e-02,  2.6844e-02, -1.1852e-01,  9.2233e-02,  7.8800e-02,\n",
            "           1.4506e-01, -8.5787e-02,  5.5893e-02,  6.1996e-02],\n",
            "         [ 3.5756e-02, -8.7071e-04, -9.7122e-02, -7.5601e-02, -3.0845e-02,\n",
            "           8.2717e-04,  7.5571e-03, -1.5710e-01,  2.6505e-02,  3.8146e-02,\n",
            "           1.8738e-01,  1.2482e-01, -7.7598e-02, -6.0757e-02, -4.6627e-02,\n",
            "           1.2186e-01, -3.0819e-02, -1.8697e-02, -1.8299e-01,  4.0518e-03,\n",
            "          -4.6748e-02, -3.6028e-02,  1.0664e-02, -3.6007e-02,  7.9943e-02,\n",
            "          -7.2491e-02,  6.7560e-02, -3.7226e-02,  2.9668e-01,  6.7806e-02,\n",
            "          -2.2751e-02, -6.8039e-02,  9.0140e-02, -3.6685e-02,  1.8054e-02,\n",
            "           2.5846e-01, -4.1176e-02,  5.9000e-02, -3.8069e-04, -4.1843e-02,\n",
            "          -8.3756e-02, -5.5754e-02,  3.5057e-03,  2.1090e-02,  1.4963e-02,\n",
            "           8.5501e-02,  9.1152e-02,  2.5560e-03,  6.0751e-02, -6.4669e-02,\n",
            "          -2.7303e-04,  1.6573e-01,  3.5857e-02,  2.6421e-01, -1.0839e-01,\n",
            "           1.8064e-02,  2.4722e-02, -1.1172e-01,  9.3306e-02,  8.1602e-02,\n",
            "           1.6939e-01, -8.4983e-02,  5.1802e-02,  6.3947e-02],\n",
            "         [ 3.7206e-02, -7.4266e-04, -1.1476e-01, -7.7573e-02, -2.8541e-02,\n",
            "          -8.0078e-04,  7.1012e-03, -1.6406e-01,  2.7604e-02,  6.5496e-03,\n",
            "           1.6807e-01,  1.1973e-01, -7.5693e-02, -4.9665e-02, -4.4640e-02,\n",
            "           1.1920e-01, -3.1793e-02, -1.8494e-02, -1.7330e-01,  4.0112e-03,\n",
            "          -4.4646e-02, -3.3602e-02,  8.4881e-03, -4.6588e-02,  5.9011e-02,\n",
            "          -6.5688e-02,  5.5738e-02, -3.7915e-02,  2.8907e-01,  6.1870e-02,\n",
            "          -2.1433e-02, -6.7348e-02,  8.9804e-02, -3.6120e-02,  1.8273e-02,\n",
            "           2.6131e-01, -3.7411e-02,  5.8504e-02, -7.7249e-04, -4.1431e-02,\n",
            "          -8.2532e-02, -5.6609e-02,  5.6091e-03,  2.2085e-02, -1.2924e-02,\n",
            "           7.9105e-02,  1.0536e-01, -1.7389e-02,  6.2783e-02, -4.7799e-02,\n",
            "          -1.9574e-04,  1.6677e-01,  2.9207e-02,  2.4725e-01, -1.0574e-01,\n",
            "           4.9424e-03,  2.1766e-02, -1.2540e-01,  9.3090e-02,  7.9981e-02,\n",
            "           1.5283e-01, -8.8875e-02,  4.8348e-02,  6.1784e-02],\n",
            "         [ 3.7414e-02, -1.4732e-03, -7.1132e-02, -7.9445e-02, -3.0394e-02,\n",
            "           2.7213e-03,  6.5017e-03, -1.9168e-01,  2.5837e-02,  3.9617e-02,\n",
            "           2.6017e-01,  1.3372e-01, -8.2024e-02, -1.4617e-01, -5.1573e-02,\n",
            "           1.7831e-01, -3.4502e-02, -1.6892e-02, -1.9673e-01,  4.4615e-03,\n",
            "          -5.2270e-02, -3.9768e-02,  7.7166e-03, -1.1043e-01,  9.5388e-02,\n",
            "          -6.2466e-02,  7.9351e-02, -3.6691e-02,  1.9571e-01,  6.9345e-02,\n",
            "          -2.6237e-02, -6.8929e-02,  9.3109e-02, -3.8581e-02,  1.6801e-02,\n",
            "           2.6767e-01, -6.1247e-02,  5.7234e-02, -4.2353e-04, -4.2929e-02,\n",
            "          -8.9146e-02, -4.7162e-02,  3.2704e-03,  2.1162e-02,  6.3337e-02,\n",
            "           8.6193e-02,  7.2339e-02, -7.7243e-03,  6.3146e-02, -1.6330e-01,\n",
            "          -6.4785e-04,  1.8756e-01,  7.8107e-02,  2.6240e-01, -1.1747e-01,\n",
            "           9.3675e-02,  3.4629e-02, -7.3005e-02,  9.6606e-02,  8.3357e-02,\n",
            "           1.9756e-01, -7.5850e-02,  4.5314e-02,  7.4147e-02],\n",
            "         [ 3.2878e-02, -7.7119e-04, -1.1901e-01, -7.5534e-02, -2.6325e-02,\n",
            "           3.2814e-04,  9.6172e-03, -1.6694e-01,  2.6310e-02,  4.6507e-02,\n",
            "           1.7228e-01,  1.1938e-01, -7.6137e-02, -2.0618e-02, -4.4881e-02,\n",
            "           9.1772e-02, -2.8194e-02, -1.7663e-02, -1.5816e-01,  3.7961e-03,\n",
            "          -4.4728e-02, -3.1871e-02,  9.4740e-03, -5.0202e-02,  5.2024e-02,\n",
            "          -6.4551e-02,  2.9176e-02, -3.6465e-02,  3.0040e-01,  6.1654e-02,\n",
            "          -2.2003e-02, -6.5665e-02,  8.7130e-02, -3.2269e-02,  1.7054e-02,\n",
            "           2.4645e-01,  1.4017e-02,  5.7668e-02,  6.7110e-05, -4.0932e-02,\n",
            "          -9.0776e-02, -6.1747e-02,  4.9115e-03,  2.0613e-02, -2.8904e-02,\n",
            "           7.7633e-02,  1.1453e-01, -3.5549e-02,  6.0651e-02, -2.6767e-02,\n",
            "          -5.7088e-04,  1.2553e-01,  3.7086e-02,  2.4345e-01, -1.0226e-01,\n",
            "          -7.6337e-03,  2.4559e-02, -1.1458e-01,  9.0564e-02,  7.6548e-02,\n",
            "           1.2199e-01, -7.2391e-02,  5.1605e-02,  6.1440e-02],\n",
            "         [ 4.0042e-02, -1.4084e-03, -9.1817e-02, -7.7447e-02, -3.1236e-02,\n",
            "           2.6863e-03,  4.8459e-03, -2.0160e-01,  2.6270e-02,  3.0954e-02,\n",
            "           2.3373e-01,  1.3563e-01, -8.2542e-02, -1.1255e-01, -5.2249e-02,\n",
            "           2.0127e-01, -3.7031e-02, -1.7482e-02, -1.9774e-01,  4.3279e-03,\n",
            "          -5.3169e-02, -4.1024e-02,  8.4049e-03, -9.9152e-02,  1.0945e-01,\n",
            "          -6.7949e-02,  8.8513e-02, -3.6337e-02,  1.7411e-01,  6.9691e-02,\n",
            "          -2.6353e-02, -7.0280e-02,  9.5545e-02, -3.9454e-02,  1.7715e-02,\n",
            "           2.7702e-01, -9.4525e-02,  5.7797e-02, -7.0880e-04, -4.2976e-02,\n",
            "          -9.1072e-02, -4.3294e-02,  1.7613e-03,  2.1647e-02,  5.7196e-02,\n",
            "           9.0190e-02,  6.4123e-02,  5.9275e-04,  6.4940e-02, -1.4950e-01,\n",
            "          -3.6475e-04,  1.8736e-01,  7.4853e-02,  2.9188e-01, -1.1980e-01,\n",
            "           1.0055e-01,  3.2326e-02, -5.1071e-02,  9.8499e-02,  8.5376e-02,\n",
            "           2.3911e-01, -6.1874e-02,  5.0075e-02,  7.6275e-02],\n",
            "         [ 3.5129e-02, -1.2075e-03, -1.3043e-01, -7.6787e-02, -2.7672e-02,\n",
            "           1.0614e-03,  8.6338e-03, -1.8402e-01,  2.6153e-02,  5.6005e-02,\n",
            "           2.1362e-01,  1.2584e-01, -7.8329e-02, -6.3989e-02, -4.7707e-02,\n",
            "           1.0844e-01, -2.9854e-02, -1.7651e-02, -1.7917e-01,  4.2441e-03,\n",
            "          -4.7759e-02, -3.5351e-02,  9.2161e-03, -7.1215e-02,  8.3159e-02,\n",
            "          -5.3299e-02,  5.0343e-02, -3.5883e-02,  2.6909e-01,  7.4601e-02,\n",
            "          -2.3932e-02, -6.5529e-02,  8.9153e-02, -3.6083e-02,  1.6898e-02,\n",
            "           2.6121e-01, -1.0074e-02,  5.6326e-02, -2.5077e-04, -4.0790e-02,\n",
            "          -8.9170e-02, -5.5267e-02,  5.0164e-03,  2.1067e-02, -2.8625e-03,\n",
            "           8.0090e-02,  9.2070e-02, -2.5660e-02,  6.1940e-02, -7.5394e-02,\n",
            "          -7.2081e-04,  1.5302e-01,  6.0060e-02,  2.5067e-01, -1.1061e-01,\n",
            "           2.9243e-02,  3.0206e-02, -1.0744e-01,  9.2846e-02,  8.1014e-02,\n",
            "           1.5331e-01, -7.3826e-02,  5.5619e-02,  6.1726e-02]]],\n",
            "       device='cuda:0')\n",
            "src: 'parking is free on site.'\n",
            "trg: 'на территории предоставляется бесплатная парковка.'\n",
            "pred: 'на территории обустроена бесплатная парковка .'\n",
            "\n",
            "Guests can find a free internet point and free beach towels during their stay. Во время пребывания на территории бесплатно предоставляются пляжные полотенца и доступ в Интернет.\n",
            "enc tensor([[[-0.0160,  0.0013, -0.0867,  ...,  0.0579, -0.0350, -0.0210],\n",
            "         [-0.0190,  0.0027, -0.1642,  ...,  0.0144, -0.0419, -0.0089],\n",
            "         [-0.0216,  0.0026, -0.0951,  ..., -0.0358, -0.0449, -0.0065],\n",
            "         ...,\n",
            "         [-0.0143,  0.0002, -0.0709,  ...,  0.0992, -0.0212, -0.0329],\n",
            "         [-0.0176,  0.0002, -0.0194,  ...,  0.0860, -0.0319, -0.0323],\n",
            "         [-0.0221, -0.0003, -0.0490,  ...,  0.1116, -0.0329, -0.0400]]],\n",
            "       device='cuda:0')\n",
            "src: 'guests can find a free internet point and free beach towels during their stay.'\n",
            "trg: 'во время пребывания на территории бесплатно предоставляются пляжные полотенца и доступ в интернет.'\n",
            "pred: 'в отеле есть бесплатная парковка и бесплатные услуги трансфера .'\n",
            "\n"
          ]
        }
      ],
      "source": [
        "trg_itos = trg_vocab.get_itos()\n",
        "model.eval()\n",
        "max_len = 50\n",
        "with torch.no_grad():\n",
        "    for i, (src, trg) in enumerate(val_data):\n",
        "        encoded = encode(src, src_vocab)[::-1]\n",
        "        #encoded = torch.tensor(encoded)[:, None].to(device)\n",
        "        encoded = torch.tensor(encoded).unsqueeze(0).to(device)\n",
        "        \n",
        "        src_mask = model.make_src_mask(encoded)\n",
        "        #hidden = model.encoder(encoded)\n",
        "        enc_src = model.encoder(encoded, src_mask)\n",
        "\n",
        "        pred_tokens = [trg_vocab[sos_token]]\n",
        "        for _ in range(max_len):\n",
        "            decoder_input = torch.tensor(pred_tokens).unsqueeze(0).to(device)\n",
        "            #print(decoder_input)\n",
        "            #trg_tensor = torch.LongTensor(trg_indexes).unsqueeze(0).to(device)\n",
        "            #pred, hidden = model.decoder(decoder_input, hidden)  \n",
        "            trg_mask = model.make_trg_mask(decoder_input)\n",
        "            output, attention = model.decoder(decoder_input, enc_src, trg_mask, src_mask)\n",
        "            #print(\"out\", output)\n",
        "            #_, pred_token = output[0].max(dim=1)\n",
        "            pred_token = output.argmax(2)[:,-1]\n",
        "            if pred_token == trg_vocab[eos_token]:\n",
        "                # Don't add it to prediction for cleaner output.\n",
        "                break\n",
        "\n",
        "            pred_tokens.append(pred_token.item())\n",
        "\n",
        "        print(f\"src: '{src.rstrip().lower()}'\")\n",
        "        print(f\"trg: '{trg.rstrip().lower()}'\")\n",
        "        print(f\"pred: '{' '.join(trg_itos[i] for i in pred_tokens[1:])}'\")\n",
        "        print()\n",
        "\n",
        "        if i == 10:\n",
        "            break"
      ]
    },
    {
      "cell_type": "markdown",
      "metadata": {
        "id": "kJsWrg5Z1phB"
      },
      "source": [
        "The metric often used in NMT is the BLEU. We'll also use it to evaluate our models. In fact, the goal of this homework is to beat the specified baseline BLEU scores.\n",
        "\n",
        "Here is how you can calculate the score for your model:"
      ]
    },
    {
      "cell_type": "code",
      "execution_count": 24,
      "metadata": {
        "colab": {
          "base_uri": "https://localhost:8080/"
        },
        "id": "hogEKcmOPsAh",
        "outputId": "7fc272f9-d7ce-48c9-f825-99959380d839"
      },
      "outputs": [
        {
          "name": "stdout",
          "output_type": "stream",
          "text": [
            "Your model shows test BLEU of 12.0\n"
          ]
        }
      ],
      "source": [
        "from nltk.translate.bleu_score import corpus_bleu\n",
        "\n",
        "\n",
        "references, hypotheses = [], []\n",
        "with torch.no_grad():\n",
        "    for src, trg in test_dataloader:\n",
        "        src = src.to(device).T\n",
        "        trg = trg.to(device).T\n",
        "        output = model(src, trg[:,:-1])\n",
        "        #print(trg.shape)\n",
        "        #torch.Size([72, 256, 9310])\n",
        "        #torch.Size([48, 256, 9310])\n",
        "        #output = [btach size, trg len, dict len]\n",
        "        output = output.cpu().numpy().argmax(axis=2)\n",
        "        #output = [btach size, trg len]\n",
        "\n",
        "        for i in range(trg.shape[0]):\n",
        "            reference = trg[i, :]\n",
        "            reference_tokens = [trg_itos[id_] for id_ in reference]\n",
        "            reference_tokens = [tok for tok in reference_tokens if tok not in specials]\n",
        "            references.append(reference_tokens)\n",
        "\n",
        "            hypothesis = output[i, :]\n",
        "            hypothesis_tokens = [trg_itos[id_] for id_ in hypothesis]\n",
        "            hypothesis_tokens = [tok for tok in hypothesis_tokens if tok not in specials]\n",
        "            hypotheses.append(hypothesis_tokens)\n",
        "\n",
        "# corpus_bleu works with multiple references\n",
        "bleu = corpus_bleu([[ref] for ref in references], hypotheses)\n",
        "print(f\"Your model shows test BLEU of {100 * bleu:.1f}\")"
      ]
    },
    {
      "cell_type": "markdown",
      "metadata": {
        "id": "i9hHhduLPsAh"
      },
      "source": [
        "Baseline solution BLEU score is quite low. Try to achieve at least __24__ BLEU on the test set. \n",
        "The checkpoints are:\n",
        "\n",
        "* __22__ - minimal score to submit the homework, 30% of points\n",
        "\n",
        "* __27__ - good score, 70% of points\n",
        "\n",
        "* __29__ - excellent score, 100% of points"
      ]
    },
    {
      "cell_type": "markdown",
      "metadata": {
        "id": "_vWtkCMpFglL"
      },
      "source": [
        "# **Выводы и рабочие моменты**\n",
        "Реализована модель как в статье  [Attention is All You Need](https://arxiv.org/abs/1706.03762)\n",
        "\n",
        "Убил море времени. Колаб заблочил мне GPU, качество узнать не успел.\n",
        "\n",
        "CUDA out of memory - уменьшил batch_size"
      ]
    },
    {
      "cell_type": "markdown",
      "metadata": {
        "id": "8nvNQhzfPsAe"
      },
      "source": [
        "## ATTEMPT TO USE BERT (NOT USED)"
      ]
    },
    {
      "cell_type": "code",
      "execution_count": null,
      "metadata": {
        "colab": {
          "base_uri": "https://localhost:8080/"
        },
        "id": "qy7q-jkw-YR3",
        "outputId": "083407f4-8871-4158-863b-54b86e01133f"
      },
      "outputs": [
        {
          "name": "stdout",
          "output_type": "stream",
          "text": [
            "\u001b[31mERROR: Operation cancelled by user\u001b[0m\n"
          ]
        }
      ],
      "source": [
        "!pip install transformers"
      ]
    },
    {
      "cell_type": "code",
      "execution_count": null,
      "metadata": {
        "colab": {
          "base_uri": "https://localhost:8080/",
          "height": 393
        },
        "id": "owxcb4L-9Yh2",
        "outputId": "dc1010e9-927d-4272-b7fb-26354723c2c1"
      },
      "outputs": [
        {
          "ename": "ModuleNotFoundError",
          "evalue": "ignored",
          "output_type": "error",
          "traceback": [
            "\u001b[0;31m---------------------------------------------------------------------------\u001b[0m",
            "\u001b[0;31mModuleNotFoundError\u001b[0m                       Traceback (most recent call last)",
            "\u001b[0;32m<ipython-input-10-3de9bac4d5cb>\u001b[0m in \u001b[0;36m<module>\u001b[0;34m()\u001b[0m\n\u001b[0;32m----> 1\u001b[0;31m \u001b[0;32mimport\u001b[0m \u001b[0mtransformers\u001b[0m \u001b[0;32mas\u001b[0m \u001b[0mppb\u001b[0m\u001b[0;34m\u001b[0m\u001b[0;34m\u001b[0m\u001b[0m\n\u001b[0m\u001b[1;32m      2\u001b[0m \u001b[0;31m# For DistilBERT:\u001b[0m\u001b[0;34m\u001b[0m\u001b[0;34m\u001b[0m\u001b[0;34m\u001b[0m\u001b[0m\n\u001b[1;32m      3\u001b[0m \u001b[0;31m# model_class, tokenizer_class, pretrained_weights = (ppb.DistilBertModel, ppb.DistilBertTokenizer, 'distilbert-base-uncased')\u001b[0m\u001b[0;34m\u001b[0m\u001b[0;34m\u001b[0m\u001b[0;34m\u001b[0m\u001b[0m\n\u001b[1;32m      4\u001b[0m \u001b[0;34m\u001b[0m\u001b[0m\n\u001b[1;32m      5\u001b[0m \u001b[0;31m## Want BERT instead of distilBERT? Uncomment the following line:\u001b[0m\u001b[0;34m\u001b[0m\u001b[0;34m\u001b[0m\u001b[0;34m\u001b[0m\u001b[0m\n",
            "\u001b[0;31mModuleNotFoundError\u001b[0m: No module named 'transformers'",
            "",
            "\u001b[0;31m---------------------------------------------------------------------------\u001b[0;32m\nNOTE: If your import is failing due to a missing package, you can\nmanually install dependencies using either !pip or !apt.\n\nTo view examples of installing some common dependencies, click the\n\"Open Examples\" button below.\n\u001b[0;31m---------------------------------------------------------------------------\u001b[0m\n"
          ]
        }
      ],
      "source": [
        "import transformers as ppb\n",
        "# For DistilBERT:\n",
        "# model_class, tokenizer_class, pretrained_weights = (ppb.DistilBertModel, ppb.DistilBertTokenizer, 'distilbert-base-uncased')\n",
        "\n",
        "## Want BERT instead of distilBERT? Uncomment the following line:\n",
        "model_class, tokenizer_class, pretrained_weights = (ppb.BertModel, ppb.BertTokenizer, 'bert-base-uncased')\n",
        "\n",
        "# Load pretrained model/tokenizer\n",
        "tokenizer = tokenizer_class.from_pretrained(pretrained_weights)\n",
        "model = model_class.from_pretrained(pretrained_weights)"
      ]
    },
    {
      "cell_type": "code",
      "execution_count": null,
      "metadata": {
        "id": "Dj9gbFYF9Ym0"
      },
      "outputs": [],
      "source": [
        "model"
      ]
    }
  ],
  "metadata": {
    "accelerator": "GPU",
    "anaconda-cloud": {},
    "colab": {
      "collapsed_sections": [
        "8nvNQhzfPsAe"
      ],
      "machine_shape": "hm",
      "name": "My_Lab1_NLP_part2_NMT.ipynb",
      "provenance": []
    },
    "kernelspec": {
      "display_name": "base",
      "language": "python",
      "name": "python3"
    },
    "language_info": {
      "codemirror_mode": {
        "name": "ipython",
        "version": 3
      },
      "file_extension": ".py",
      "mimetype": "text/x-python",
      "name": "python",
      "nbconvert_exporter": "python",
      "pygments_lexer": "ipython3",
      "version": "3.8.15 (default, Nov 24 2022, 15:19:38) \n[GCC 11.2.0]"
    },
    "vscode": {
      "interpreter": {
        "hash": "b9e733ad0320ee6eeb44c3255968b2ba7a5cded3238d4860b3a8232f88ba79c4"
      }
    }
  },
  "nbformat": 4,
  "nbformat_minor": 0
}
